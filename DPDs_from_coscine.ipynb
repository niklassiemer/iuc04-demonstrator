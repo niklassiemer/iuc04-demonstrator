{
 "cells": [
  {
   "cell_type": "code",
   "execution_count": 1,
   "id": "476afb7a-2361-4904-92de-d852903644fb",
   "metadata": {},
   "outputs": [],
   "source": [
    "import sys"
   ]
  },
  {
   "cell_type": "code",
   "execution_count": 2,
   "id": "26d25e3e-407b-4602-b849-0bef95ba5848",
   "metadata": {},
   "outputs": [],
   "source": [
    "sys.path.insert(0, '/home/nsiemer/home-win/pyiron_git/pyiron_contrib')"
   ]
  },
  {
   "cell_type": "code",
   "execution_count": 3,
   "id": "68c56867-4b36-4934-b4a2-f5f14f08cb68",
   "metadata": {
    "tags": []
   },
   "outputs": [
    {
     "name": "stderr",
     "output_type": "stream",
     "text": [
      "/home/nsiemer/home-win/pyiron_git/pyiron_contrib/pyiron_contrib/RDM/__init__.py:7: UserWarning: pyiron module not found, importing Project from pyiron_base\n",
      "  warnings.warn(\"pyiron module not found, importing Project from pyiron_base\")\n"
     ]
    }
   ],
   "source": [
    "from pyiron_atomistics import Project\n",
    "from pyiron_contrib import RDM\n",
    "import numpy as np \n",
    "import matplotlib.pyplot as plt\n",
    "\n",
    "%config inlinebackend.figure_format='retina'"
   ]
  },
  {
   "cell_type": "code",
   "execution_count": 4,
   "id": "70a47be7-ab4e-44d0-b97a-bda5f8e172c9",
   "metadata": {
    "tags": []
   },
   "outputs": [
    {
     "name": "stdin",
     "output_type": "stream",
     "text": [
      "Coscine token:  ········\n"
     ]
    },
    {
     "ename": "TypeError",
     "evalue": "Project.subproject() got an unexpected keyword argument 'display_name'",
     "output_type": "error",
     "traceback": [
      "\u001b[0;31m---------------------------------------------------------------------------\u001b[0m",
      "\u001b[0;31mTypeError\u001b[0m                                 Traceback (most recent call last)",
      "Cell \u001b[0;32mIn[4], line 4\u001b[0m\n\u001b[1;32m      1\u001b[0m pr \u001b[38;5;241m=\u001b[39m Project(\u001b[38;5;124m'\u001b[39m\u001b[38;5;124mChemical_potential\u001b[39m\u001b[38;5;124m'\u001b[39m)\n\u001b[1;32m      3\u001b[0m co_pr \u001b[38;5;241m=\u001b[39m pr\u001b[38;5;241m.\u001b[39mstorage_interface\u001b[38;5;241m.\u001b[39mcreate\u001b[38;5;241m.\u001b[39mcoscine()\n\u001b[0;32m----> 4\u001b[0m a_res \u001b[38;5;241m=\u001b[39m \u001b[43mco_pr\u001b[49m\u001b[43m[\u001b[49m\u001b[38;5;124;43m'\u001b[39;49m\u001b[38;5;124;43mSFB1394\u001b[39;49m\u001b[38;5;124;43m'\u001b[39;49m\u001b[43m]\u001b[49m\u001b[43m[\u001b[49m\u001b[38;5;124;43m'\u001b[39;49m\u001b[38;5;124;43mC05\u001b[39;49m\u001b[38;5;124;43m'\u001b[39;49m\u001b[43m]\u001b[49m[\u001b[38;5;124m'\u001b[39m\u001b[38;5;124mS7_GB_DPD_data\u001b[39m\u001b[38;5;124m'\u001b[39m]\n\u001b[1;32m      5\u001b[0m pr\u001b[38;5;241m.\u001b[39mstorage_interface\u001b[38;5;241m.\u001b[39mattach(\u001b[38;5;124m'\u001b[39m\u001b[38;5;124mS7_GB_DPD_data\u001b[39m\u001b[38;5;124m'\u001b[39m, a_res)\n",
      "File \u001b[0;32m~/home-win/pyiron_git/pyiron_contrib/pyiron_contrib/generic/coscineIo.py:621\u001b[0m, in \u001b[0;36mCoscineProject.__getitem__\u001b[0;34m(self, key)\u001b[0m\n\u001b[1;32m    619\u001b[0m \u001b[38;5;28;01mif\u001b[39;00m key \u001b[38;5;129;01min\u001b[39;00m \u001b[38;5;28mself\u001b[39m\u001b[38;5;241m.\u001b[39mlist_nodes():  \u001b[38;5;66;03m# This implies project is not None\u001b[39;00m\n\u001b[1;32m    620\u001b[0m     \u001b[38;5;28;01mreturn\u001b[39;00m CoscineResource(\u001b[38;5;28mself\u001b[39m\u001b[38;5;241m.\u001b[39m_project\u001b[38;5;241m.\u001b[39mresource(key), \u001b[38;5;28mself\u001b[39m\u001b[38;5;241m.\u001b[39m_path)\n\u001b[0;32m--> 621\u001b[0m \u001b[38;5;28;01mreturn\u001b[39;00m \u001b[38;5;28;43mself\u001b[39;49m\u001b[38;5;241;43m.\u001b[39;49m\u001b[43mget_group\u001b[49m\u001b[43m(\u001b[49m\u001b[43mkey\u001b[49m\u001b[43m)\u001b[49m\n",
      "File \u001b[0;32m~/home-win/pyiron_git/pyiron_contrib/pyiron_contrib/generic/coscineIo.py:633\u001b[0m, in \u001b[0;36mCoscineProject.get_group\u001b[0;34m(self, key)\u001b[0m\n\u001b[1;32m    630\u001b[0m \u001b[38;5;28;01mif\u001b[39;00m key \u001b[38;5;129;01min\u001b[39;00m \u001b[38;5;28mself\u001b[39m\u001b[38;5;241m.\u001b[39mlist_groups() \u001b[38;5;129;01mand\u001b[39;00m \u001b[38;5;28mself\u001b[39m\u001b[38;5;241m.\u001b[39m_project \u001b[38;5;129;01mis\u001b[39;00m \u001b[38;5;129;01mnot\u001b[39;00m \u001b[38;5;28;01mNone\u001b[39;00m:\n\u001b[1;32m    631\u001b[0m     \u001b[38;5;28;01mtry\u001b[39;00m:\n\u001b[1;32m    632\u001b[0m         \u001b[38;5;28;01mreturn\u001b[39;00m \u001b[38;5;28mself\u001b[39m\u001b[38;5;241m.\u001b[39m\u001b[38;5;18m__class__\u001b[39m(\n\u001b[0;32m--> 633\u001b[0m             \u001b[38;5;28;43mself\u001b[39;49m\u001b[38;5;241;43m.\u001b[39;49m\u001b[43m_project\u001b[49m\u001b[38;5;241;43m.\u001b[39;49m\u001b[43msubproject\u001b[49m\u001b[43m(\u001b[49m\u001b[43mdisplay_name\u001b[49m\u001b[38;5;241;43m=\u001b[39;49m\u001b[43mkey\u001b[49m\u001b[43m)\u001b[49m, parent_path\u001b[38;5;241m=\u001b[39m\u001b[38;5;28mself\u001b[39m\u001b[38;5;241m.\u001b[39m_path\n\u001b[1;32m    634\u001b[0m         )\n\u001b[1;32m    635\u001b[0m     \u001b[38;5;28;01mexcept\u001b[39;00m \u001b[38;5;167;01mIndexError\u001b[39;00m:\n\u001b[1;32m    636\u001b[0m         warnings\u001b[38;5;241m.\u001b[39mwarn(\u001b[38;5;124m\"\u001b[39m\u001b[38;5;124mMore than one project matches - returning first match!\u001b[39m\u001b[38;5;124m\"\u001b[39m)\n",
      "\u001b[0;31mTypeError\u001b[0m: Project.subproject() got an unexpected keyword argument 'display_name'"
     ]
    }
   ],
   "source": [
    "pr = Project('Chemical_potential')\n",
    "\n",
    "co_pr = pr.storage_interface.create.coscine()\n",
    "a_res = co_pr['SFB1394']['C05']['S7_GB_DPD_data']\n",
    "pr.storage_interface.attach('S7_GB_DPD_data', a_res)"
   ]
  },
  {
   "cell_type": "code",
   "execution_count": 22,
   "id": "106f8792-7043-4905-b1d9-4eadc25c2306",
   "metadata": {
    "tags": []
   },
   "outputs": [],
   "source": [
    "# class to plot DPDs\n",
    "class construct_DPD():\n",
    "    \n",
    "    def __init__(self, mu_x, energies, labels, colors):\n",
    "        self.mu_x = mu_x\n",
    "        self.energies = energies\n",
    "        self.labels = labels\n",
    "        self.colors = colors\n",
    "        self.indices = []\n",
    "        self.all_indices = []\n",
    "\n",
    "    def ret_mu_pos(self, x, y): # function to return intersection point of 2 formation energy lines\n",
    "        '''\n",
    "        Returns the index of chemical potential where the 2 formation energies intersect. In case there is no intersection, returns the index of the highest chemical potential\n",
    "        '''\n",
    "        for i, s in enumerate(y):\n",
    "            if np.abs(s-x[i])<1e-4:\n",
    "                # print(i)\n",
    "                ind = i\n",
    "                break\n",
    "            else:\n",
    "                ind = len(x)\n",
    "        return ind\n",
    "    \n",
    "    def get_indices(self):\n",
    "        '''\n",
    "        Returns lists containing indices of energies stable in DPD, indices of intersections and list containing indices of energies not stable in DPD.\n",
    "        '''    \n",
    "        all_inds, order, ordered_inds = [], [], [0]\n",
    "\n",
    "        for i in range(len(self.energies)):\n",
    "            inds = []\n",
    "            for j in range(len(self.energies)):\n",
    "                if i != j:\n",
    "                    inds.append(self.ret_mu_pos(self.energies[i], self.energies[j]))\n",
    "\n",
    "            all_inds.append(inds)\n",
    "\n",
    "        all_inds = np.array(all_inds)\n",
    "        order.append(np.where(self.energies[:,0]==np.min(self.energies[:,0]))[0][0])\n",
    "        ordered_inds.append(np.min(all_inds[order[-1]]))\n",
    "        \n",
    "        counter = 1\n",
    "        while(ordered_inds[-1]<len(self.mu_x)):\n",
    "            counter += 1\n",
    "            inds = np.where(all_inds==ordered_inds[-1])[0]\n",
    "            inds = inds[inds != order[-1]][0]\n",
    "            order.append(inds)\n",
    "            try:\n",
    "                ordered_inds.append(np.sort(all_inds[order[-1]])[np.where(np.sort(all_inds[inds])==ordered_inds[-1])[0][0]+1])\n",
    "            except:\n",
    "                ordered_inds.append(len(self.mu_x))\n",
    "                \n",
    "        rejected_inds = [int(i) for i in list(set(order).symmetric_difference(set(np.linspace(0, len(all_inds)-1, len(all_inds)))))]\n",
    "                \n",
    "        return order, ordered_inds, rejected_inds\n",
    "    \n",
    "    def plot(self, xlim=[-1, 0], ylim=[-5,25], xlabel=r'$\\Delta\\mu_{\\rm Ga}$ [eV]', ylabel=r'$E_{\\rm f}$ [meV/$\\rm \\AA^2$]', alpha_fill=1, legend=True):\n",
    "        '''\n",
    "        Plots the DPD for the given chemical potential and formation energies. \n",
    "        Args:\n",
    "            xlim: x-axis limits; default is [-1,0]\n",
    "            ylim: y-axis limits; default is [-5,25]\n",
    "            xlabel: x-axis Label; default is \"r'$\\Delta\\mu_{\\rm Ga}$ [eV]'\"\n",
    "            ylabel: y-axis Label; default is \"r'$E_{\\rm f}$ [meV/$\\rm \\AA^2$]'\"\n",
    "            alpha_fill: alpha parameter to control transparency in shaded regions; default is 1.0\n",
    "        '''\n",
    "        order, ordered_inds, rejected_inds = self.get_indices()\n",
    "        \n",
    "        colors_list = np.concatenate([[self.colors[order[i]] for i in range(len(order))], [self.colors[rejected_inds[i]] for i in range(len(rejected_inds))]])\n",
    "        \n",
    "        plt.figure(figsize=(8,5))\n",
    "        plt.xlim(xlim[0], xlim[-1])\n",
    "        plt.ylim(ylim[0], ylim[1])\n",
    "        plt.xlabel(xlabel, fontsize=18)\n",
    "        plt.ylabel(ylabel, fontsize=18, labelpad=-5)\n",
    "        plt.tick_params(axis='both', direction='in', top=True, right=True, length=10, pad=8, labelsize=17)\n",
    "        \n",
    "        for i in range(len(order)):\n",
    "            plt.plot(self.mu_x[:ordered_inds[i]], 1000*self.energies[order[i]][:ordered_inds[i]], c=colors_list[i], alpha=0.5, ls='--', lw=2)\n",
    "            plt.plot(self.mu_x[ordered_inds[i+1]:], 1000*self.energies[order[i]][ordered_inds[i+1]:], c=colors_list[i], alpha=0.3, ls='--', lw=2)\n",
    "            plt.plot(self.mu_x[ordered_inds[i]:ordered_inds[i+1]], 1000*self.energies[order[i]][ordered_inds[i]:ordered_inds[i+1]], c=colors_list[i], lw=2)\n",
    "\n",
    "            plt.fill_between(self.mu_x[ordered_inds[i]:ordered_inds[i+1]], 1000*self.energies[order[i]][ordered_inds[i]:ordered_inds[i+1]], \n",
    "                             y2=1000*np.min(self.energies), color=colors_list[i], label=self.labels[order[i]], alpha=alpha_fill)\n",
    "\n",
    "        for i in range(len(rejected_inds)):\n",
    "            plt.plot(self.mu_x, 1000*self.energies[rejected_inds[i]], c=colors_list[len(order)+i], ls='--', lw=2, label=self.labels[rejected_inds[i]])\n",
    "                    \n",
    "        plt.tight_layout()\n",
    "        if legend:\n",
    "            plt.legend(fontsize=13)"
   ]
  },
  {
   "cell_type": "code",
   "execution_count": 4,
   "id": "9d22ad54-1fa0-4802-9296-c767ec41e5a9",
   "metadata": {
    "tags": []
   },
   "outputs": [
    {
     "data": {
      "application/vnd.jupyter.widget-view+json": {
       "model_id": "be05e5f8a6854adabb65aa4a68578fce",
       "version_major": 2,
       "version_minor": 0
      },
      "text/plain": [
       "Mg_bulk.h5:   0%|          | 0.00/9.69M [00:00<?, ?B/s]"
      ]
     },
     "metadata": {},
     "output_type": "display_data"
    },
    {
     "data": {
      "application/vnd.jupyter.widget-view+json": {
       "model_id": "cc9255fc45314b5eaefe025d63d2794e",
       "version_major": 2,
       "version_minor": 0
      },
      "text/plain": [
       "Ga_bulk.h5:   0%|          | 0.00/11.2M [00:00<?, ?B/s]"
      ]
     },
     "metadata": {},
     "output_type": "display_data"
    }
   ],
   "source": [
    "# chemical potentials of Mg and Ga from respective bulks\n",
    "\n",
    "job = a_res.load_job(name='Mg_bulk.h5', project=pr)\n",
    "mu_Mg = job.output.energy_tot[-1]/len(job.structure)\n",
    "\n",
    "job = a_res.load_job(name='Ga_bulk.h5', project=pr)\n",
    "mu_Ga = job.output.energy_tot[-1]/len(job.structure)"
   ]
  },
  {
   "cell_type": "code",
   "execution_count": 18,
   "id": "0b037593-e70c-4461-a9d3-33f428424321",
   "metadata": {
    "tags": []
   },
   "outputs": [
    {
     "data": {
      "text/plain": [
       "(-1.5065073075, -2.9067873625)"
      ]
     },
     "execution_count": 18,
     "metadata": {},
     "output_type": "execute_result"
    }
   ],
   "source": [
    "mu_Mg, mu_Ga"
   ]
  },
  {
   "cell_type": "code",
   "execution_count": 5,
   "id": "30ad3f6d-c435-4b47-bdd6-315dfa9b3d75",
   "metadata": {
    "tags": []
   },
   "outputs": [
    {
     "data": {
      "application/vnd.jupyter.widget-view+json": {
       "model_id": "eb6e0b5a7d49495a8d77f480c0101780",
       "version_major": 2,
       "version_minor": 0
      },
      "text/plain": [
       "sig7b_type_a_eps_final_160.h5:   0%|          | 0.00/115M [00:00<?, ?B/s]"
      ]
     },
     "metadata": {},
     "output_type": "display_data"
    },
    {
     "name": "stderr",
     "output_type": "stream",
     "text": [
      "IOPub message rate exceeded.\n",
      "The Jupyter server will temporarily stop sending output\n",
      "to the client in order to avoid crashing it.\n",
      "To change this limit, set the config variable\n",
      "`--ServerApp.iopub_msg_rate_limit`.\n",
      "\n",
      "Current values:\n",
      "ServerApp.iopub_msg_rate_limit=1000.0 (msgs/sec)\n",
      "ServerApp.rate_limit_window=3.0 (secs)\n",
      "\n"
     ]
    },
    {
     "data": {
      "application/vnd.jupyter.widget-view+json": {
       "model_id": "6b1f23a920fa436d9e82f22ee6f72384",
       "version_major": 2,
       "version_minor": 0
      },
      "text/plain": [
       "sig7b_type_t_eps_final_160.h5:   0%|          | 0.00/121M [00:00<?, ?B/s]"
      ]
     },
     "metadata": {},
     "output_type": "display_data"
    },
    {
     "name": "stderr",
     "output_type": "stream",
     "text": [
      "IOPub message rate exceeded.\n",
      "The Jupyter server will temporarily stop sending output\n",
      "to the client in order to avoid crashing it.\n",
      "To change this limit, set the config variable\n",
      "`--ServerApp.iopub_msg_rate_limit`.\n",
      "\n",
      "Current values:\n",
      "ServerApp.iopub_msg_rate_limit=1000.0 (msgs/sec)\n",
      "ServerApp.rate_limit_window=3.0 (secs)\n",
      "\n",
      "IOPub message rate exceeded.\n",
      "The Jupyter server will temporarily stop sending output\n",
      "to the client in order to avoid crashing it.\n",
      "To change this limit, set the config variable\n",
      "`--ServerApp.iopub_msg_rate_limit`.\n",
      "\n",
      "Current values:\n",
      "ServerApp.iopub_msg_rate_limit=1000.0 (msgs/sec)\n",
      "ServerApp.rate_limit_window=3.0 (secs)\n",
      "\n"
     ]
    }
   ],
   "source": [
    "# energies and structure of the two Sigma 7 GB types\n",
    "\n",
    "name = 'sig7b_type_a_eps_final_160'\n",
    "job = a_res.load_job(name=name+'.h5', project=pr)\n",
    "en_0Ga = job.output.energy_tot[-1]\n",
    "structure = job.get_structure()\n",
    "\n",
    "name = 'sig7b_type_t_eps_final_160'\n",
    "job = a_res.load_job(name=name+'.h5', project=pr)\n",
    "en_0Ga_t = job.output.energy_tot[-1]\n",
    "structure_t = job.get_structure()"
   ]
  },
  {
   "cell_type": "code",
   "execution_count": 6,
   "id": "9ec4ed56-7f40-4239-b17c-147a5abe2bdf",
   "metadata": {
    "tags": []
   },
   "outputs": [],
   "source": [
    "# atom IDs and labels for the selected sites at the GB\n",
    "\n",
    "s_atoms_2 = [153,   151,  152, 156, 157,  1,   0,   2,   154,   155,   146,   145,   143]\n",
    "sites_2 =   ['a1', 'a2', 'a3', 'b+', 'c+', 'd+', 'e+', 'f+', 'b-', 'c-', 'd-', 'e-', 'f-']"
   ]
  },
  {
   "cell_type": "code",
   "execution_count": 7,
   "id": "ac534fb2-2219-4dc0-83f1-5801d75713c9",
   "metadata": {
    "tags": []
   },
   "outputs": [
    {
     "data": {
      "application/vnd.jupyter.widget-view+json": {
       "model_id": "864f5b6f4b424d928432dadf4786e950",
       "version_major": 2,
       "version_minor": 0
      },
      "text/plain": [
       "Ga1Mg157.h5:   0%|          | 0.00/1.10M [00:00<?, ?B/s]"
      ]
     },
     "metadata": {},
     "output_type": "display_data"
    },
    {
     "data": {
      "application/vnd.jupyter.widget-view+json": {
       "model_id": "91aea86bf99c40bdb113aa0a986beb41",
       "version_major": 2,
       "version_minor": 0
      },
      "text/plain": [
       "Ga2Mg156.h5:   0%|          | 0.00/1.11M [00:00<?, ?B/s]"
      ]
     },
     "metadata": {},
     "output_type": "display_data"
    },
    {
     "data": {
      "application/vnd.jupyter.widget-view+json": {
       "model_id": "f71a9af81ef84b9ea30643773b6a00d6",
       "version_major": 2,
       "version_minor": 0
      },
      "text/plain": [
       "Ga3Mg155.h5:   0%|          | 0.00/1.12M [00:00<?, ?B/s]"
      ]
     },
     "metadata": {},
     "output_type": "display_data"
    },
    {
     "data": {
      "application/vnd.jupyter.widget-view+json": {
       "model_id": "f26204936a8848ff9ba2ace75e0d8264",
       "version_major": 2,
       "version_minor": 0
      },
      "text/plain": [
       "Ga4Mg154.h5:   0%|          | 0.00/1.10M [00:00<?, ?B/s]"
      ]
     },
     "metadata": {},
     "output_type": "display_data"
    },
    {
     "data": {
      "application/vnd.jupyter.widget-view+json": {
       "model_id": "91cd3022b9af45a289ff6ec221e642af",
       "version_major": 2,
       "version_minor": 0
      },
      "text/plain": [
       "Ga5Mg153.h5:   0%|          | 0.00/1.10M [00:00<?, ?B/s]"
      ]
     },
     "metadata": {},
     "output_type": "display_data"
    },
    {
     "data": {
      "application/vnd.jupyter.widget-view+json": {
       "model_id": "19f028a96da543879f3c4f95adaba1c2",
       "version_major": 2,
       "version_minor": 0
      },
      "text/plain": [
       "Ga6Mg152.h5:   0%|          | 0.00/1.10M [00:00<?, ?B/s]"
      ]
     },
     "metadata": {},
     "output_type": "display_data"
    }
   ],
   "source": [
    "# reading data from pyiron tables for Sigma 7 GB containing upto 6 Ga atoms\n",
    "all_labels, all_energies, min_inds = [], [], []\n",
    "for i in range(1,7):\n",
    "    name = 'Ga{}Mg{}'.format(i, 158-i)\n",
    "    tab = a_res.load_job(project=pr, name=name+'.h5')\n",
    "    df = tab.get_dataframe()\n",
    "    df = df[df['GB Type'] == 'A']\n",
    "    labels = np.unique(df['GB Site Labels'].tolist())\n",
    "    energies, labels_list = [], []\n",
    "    for j in range(len(labels)):\n",
    "        energies.append(np.min(df[df['GB Site Labels'] == labels[j]]['Energy'].tolist()))\n",
    "        labels_list.append(str(labels[j]).replace('p','').replace('m','\\''))\n",
    "    all_labels.append(labels_list)\n",
    "    all_energies.append(energies)\n",
    "    min_inds.append(np.argmin(energies))"
   ]
  },
  {
   "cell_type": "code",
   "execution_count": 8,
   "id": "3b4bb2cf-1380-417d-9dca-0df96548167a",
   "metadata": {
    "tags": []
   },
   "outputs": [],
   "source": [
    "# Grain boundary Area (same for A and the T type)\n",
    "\n",
    "GB_area = 2*structure.cell[2][2]*structure.cell[1][1]"
   ]
  },
  {
   "cell_type": "code",
   "execution_count": 9,
   "id": "51e1a5fa-9707-47a6-829b-d9df7dab0c96",
   "metadata": {
    "tags": []
   },
   "outputs": [],
   "source": [
    "# pure Mg GB formation energies\n",
    "\n",
    "Ef_0Ga_GB = (en_0Ga - (len(structure)*mu_Mg))/GB_area # formation energy of pure A type GB\n",
    "Ef_0Ga_GB_T = (en_0Ga_t - (len(structure_t)*mu_Mg))/GB_area # formation energy of pure T type GB"
   ]
  },
  {
   "cell_type": "code",
   "execution_count": 10,
   "id": "adce1ba9-654c-44e3-9079-7bbaf0039a49",
   "metadata": {
    "tags": []
   },
   "outputs": [],
   "source": [
    "start_mu = mu_Ga - 1\n",
    "end_mu = mu_Ga + 0.5 \n",
    "grid = 3000 # number of points between start_mu and end_mu\n",
    "\n",
    "def formation_energies(n, t, e_sup):\n",
    "    Ef_initial = 2*e_sup - en_0Ga - (t-(2*n))*mu_Mg - (2*n)*(start_mu)\n",
    "    Ef_final = 2*e_sup - en_0Ga - (t-2*n)*mu_Mg - 2*n*(end_mu)\n",
    "    return np.linspace(Ef_initial, Ef_final, grid)/GB_area"
   ]
  },
  {
   "cell_type": "code",
   "execution_count": 11,
   "id": "59be88db-0504-4431-b56f-63e67bbfc3cb",
   "metadata": {
    "tags": []
   },
   "outputs": [],
   "source": [
    "# formation energies and labels for all Ga arrangements\n",
    "\n",
    "formation_energies_list, labels_list = [], []\n",
    "for i in range(1,7):\n",
    "    formation_energies_list.append(formation_energies(i, len(structure), all_energies[i-1][min_inds[i-1]]))\n",
    "    labels_list.append(all_labels[i-1][min_inds[i-1]])"
   ]
  },
  {
   "cell_type": "code",
   "execution_count": 12,
   "id": "eae9ea33-91db-4528-866a-38c408fb501d",
   "metadata": {
    "tags": []
   },
   "outputs": [
    {
     "data": {
      "application/vnd.jupyter.widget-view+json": {
       "model_id": "7c2434a794a94811b0592ebcc22d0a98",
       "version_major": 2,
       "version_minor": 0
      },
      "text/plain": [
       "Mg5Ga_relax.h5:   0%|          | 0.00/19.1M [00:00<?, ?B/s]"
      ]
     },
     "metadata": {},
     "output_type": "display_data"
    },
    {
     "data": {
      "application/vnd.jupyter.widget-view+json": {
       "model_id": "bc9b9076feea4b8fbdf3cdd48957c191",
       "version_major": 2,
       "version_minor": 0
      },
      "text/plain": [
       "Mg5Ga_constrained.h5:   0%|          | 0.00/17.5M [00:00<?, ?B/s]"
      ]
     },
     "metadata": {},
     "output_type": "display_data"
    },
    {
     "data": {
      "text/plain": [
       "(-3.35680607125, -2.7504468925)"
      ]
     },
     "execution_count": 12,
     "metadata": {},
     "output_type": "execute_result"
    }
   ],
   "source": [
    "# calculate chemical potential of Ga in the Mg5Ga2 intermetallic phase\n",
    "\n",
    "name = 'Mg5Ga2_relaxed'\n",
    "job = a_res.load_job(name=name+'.h5',project=pr)\n",
    "E_Mg5Ga_relaxed = job.output.energy_tot[-1]\n",
    "relaxed_struct = job.get_structure()\n",
    "N_Mg = len(relaxed_struct.select_index(el='Mg'))\n",
    "N_Ga = len(relaxed_struct.select_index(el='Ga'))\n",
    "\n",
    "mu_Ga_Mg5Ga_relaxed = (E_Mg5Ga_relaxed - (N_Mg*mu_Mg))/N_Ga\n",
    "\n",
    "name = 'Mg5Ga2_constrained'\n",
    "job = a_res.load_job(name=name+'.h5',project=pr)\n",
    "E_Mg5Ga_constd = job.output.energy_tot[-1]\n",
    "constrained_struct = job.get_structure()\n",
    "N_Mg = len(constrained_struct.select_index(el='Mg'))\n",
    "N_Ga = len(constrained_struct.select_index(el='Ga'))\n",
    "\n",
    "mu_Ga_Mg5Ga_constd = (E_Mg5Ga_constd - (N_Mg*mu_Mg))/N_Ga\n",
    "mu_Ga_Mg5Ga_relaxed, mu_Ga_Mg5Ga_constd"
   ]
  },
  {
   "cell_type": "code",
   "execution_count": 13,
   "id": "55ce18f8-ce78-4fa7-b4fc-6827111306e2",
   "metadata": {
    "tags": []
   },
   "outputs": [],
   "source": [
    "# selecting colors for the DPD\n",
    "\n",
    "import matplotlib.colors as mcolors\n",
    "import matplotlib.cm as cm\n",
    "\n",
    "num = 20\n",
    "mus = np.linspace(0, num, num+1, dtype=int)\n",
    "\n",
    "colorparams = mus\n",
    "\n",
    "colormap = cm.summer\n",
    "\n",
    "normalize = mcolors.Normalize(vmin=np.min(colorparams), vmax=np.max(colorparams))\n",
    "\n",
    "colors = []\n",
    "num = 9\n",
    "lim = 3\n",
    "for i in range(lim):\n",
    "    colors.append(colormap(normalize(mus[num+i*3])))\n",
    "colors.reverse()\n",
    "\n",
    "\n",
    "num = 20\n",
    "mus = np.linspace(0, num, num+1, dtype=int)\n",
    "colorparams = mus\n",
    "\n",
    "colormap = cm.ocean\n",
    "\n",
    "normalize = mcolors.Normalize(vmin=np.min(colorparams), vmax=np.max(colorparams))\n",
    "\n",
    "colors.append(colormap(normalize(mus[int(len(mus)/1.34)])))\n",
    "\n",
    "for i in range(lim):\n",
    "    colors.append(colormap(normalize(mus[(12-i*3)%len(mus)])))\n",
    "# colors.reverse()\n",
    "    \n",
    "text_col = 'k'"
   ]
  },
  {
   "cell_type": "code",
   "execution_count": 14,
   "id": "3260fc6d-8ce7-4e49-9772-8b3e993fd474",
   "metadata": {
    "tags": []
   },
   "outputs": [
    {
     "data": {
      "image/png": "[encoded data removed]",
      "text/plain": [
       "<Figure size 800x500 with 1 Axes>"
      ]
     },
     "metadata": {},
     "output_type": "display_data"
    }
   ],
   "source": [
    "final_mu_Ga = np.linspace(mu_Ga-1, end_mu, grid) # chemical potentials for the defined range\n",
    "\n",
    "# input chemical potential: 'mu_x', formation energies: ' energies', colors: 'colors' and labels corresponsding to energies: 'labels'\n",
    "DPD = construct_DPD(mu_x=final_mu_Ga-mu_Ga, energies=np.concatenate([[np.array([Ef_0Ga_GB_T]*len(formation_energies_list[0]))], np.array(formation_energies_list)]), colors=colors, \n",
    "               labels=['0-Ga', '1-Ga', '2-Ga', '3-Ga', '4-Ga', '5-Ga', '6-Ga'])\n",
    "# plotting the DPD using 'plot()'\n",
    "DPD.plot(xlim=[-1,0], ylim=[-10,25], alpha_fill=1, legend=True)\n",
    "\n",
    "# plotting chemical potential of Ga in Mg5Ga2\n",
    "plt.axvline(x=mu_Ga_Mg5Ga_relaxed-mu_Ga, ymax=2, ymin=0, color='k', ls='--', lw=2)\n",
    "plt.text(s=r'$\\mu_{\\rm Mg_5Ga_2}$', x=-0.49, y=2.5, c='k', fontsize=18, rotation=90);"
   ]
  },
  {
   "cell_type": "code",
   "execution_count": 15,
   "id": "5040b7f6-cfa5-4b2e-ad18-addabcf28aa8",
   "metadata": {
    "tags": []
   },
   "outputs": [
    {
     "data": {
      "text/plain": [
       "([0, 1, 2, 4, 5, 6], [0, 817, 1327, 1356, 1423, 1603, 3000], [3])"
      ]
     },
     "execution_count": 15,
     "metadata": {},
     "output_type": "execute_result"
    }
   ],
   "source": [
    "DPD.get_indices()"
   ]
  },
  {
   "cell_type": "markdown",
   "id": "2174df24-cacd-44ac-a9fa-7b8b23987f0e",
   "metadata": {},
   "source": [
    "## Experimental DPD energies"
   ]
  },
  {
   "cell_type": "code",
   "execution_count": 16,
   "id": "29956da0-9665-4b44-b1cf-6da62e30e32d",
   "metadata": {
    "tags": []
   },
   "outputs": [],
   "source": [
    "def get_index(l, cond):\n",
    "    for i in range(len(l)):\n",
    "        if l[i] == cond:\n",
    "            break\n",
    "            \n",
    "    if l[i] == cond:        \n",
    "        return i\n",
    "    else:\n",
    "        print('Match not found')"
   ]
  },
  {
   "cell_type": "code",
   "execution_count": 17,
   "id": "c5da935e-7cbf-47ac-bde8-b18083f36831",
   "metadata": {
    "tags": []
   },
   "outputs": [],
   "source": [
    "ind_2 = get_index(all_labels[2], str(\"b_c\\'_e\\'\"))\n",
    "\n",
    "ind_6 = get_index(all_labels[-1], str('b_c_e_b\\'_c\\'_e\\''))"
   ]
  },
  {
   "cell_type": "code",
   "execution_count": 18,
   "id": "1dc2d649-2b88-4452-8baa-fa41196e4ce7",
   "metadata": {
    "tags": []
   },
   "outputs": [],
   "source": [
    "Ef_3Ga_exp = formation_energies(3, len(structure), all_energies[2][ind_2])\n",
    "Ef_6Ga_exp = formation_energies(6, len(structure), all_energies[-1][ind_6])"
   ]
  },
  {
   "cell_type": "code",
   "execution_count": 19,
   "id": "36e9ccd2-e70e-4573-bc0e-02c9119e0a3a",
   "metadata": {
    "tags": []
   },
   "outputs": [],
   "source": [
    "ind_1_b, ind_1_c, ind_1_e = get_index(all_labels[0], str(\"b\")), get_index(all_labels[0], str(\"c\")), get_index(all_labels[0], str(\"e\"))"
   ]
  },
  {
   "cell_type": "code",
   "execution_count": 20,
   "id": "6621cbd1-2247-4ace-98ed-3cdfa7c9b9be",
   "metadata": {
    "tags": []
   },
   "outputs": [],
   "source": [
    "E_1Ga_b = formation_energies(1, len(structure), all_energies[0][ind_1_b])"
   ]
  },
  {
   "cell_type": "markdown",
   "id": "d3ef28bb-53ae-42c6-8eed-9c30bfe0403a",
   "metadata": {},
   "source": [
    "## Experimental DPD"
   ]
  },
  {
   "cell_type": "code",
   "execution_count": 21,
   "id": "ae08b41d-94bd-4cbc-95fa-b3026315e2e5",
   "metadata": {
    "tags": []
   },
   "outputs": [
    {
     "data": {
      "image/png": "[encoded data removed]",
      "text/plain": [
       "<Figure size 800x500 with 1 Axes>"
      ]
     },
     "metadata": {},
     "output_type": "display_data"
    }
   ],
   "source": [
    "final_mu_Ga = np.linspace(mu_Ga-1, end_mu, grid)\n",
    "exp_colors = ['#00ad4a', '#ff00ff', '#ff0066', '#cc0000']\n",
    "text_col = 'white'\n",
    "\n",
    "DPD = construct_DPD(mu_x=final_mu_Ga-mu_Ga, energies=np.array([[Ef_0Ga_GB_T]*len(E_1Ga_b), E_1Ga_b, Ef_3Ga_exp, Ef_6Ga_exp]), colors=exp_colors, \n",
    "               labels=['0-Ga', '1-Ga', '3-Ga', '6-Ga'])\n",
    "\n",
    "DPD.plot(xlim=[-0.8,0], ylim=[-15,25], alpha_fill=0.3, legend=False)"
   ]
  },
  {
   "cell_type": "code",
   "execution_count": null,
   "id": "98d8e8ad-f46a-495f-9b4c-12933ea6a709",
   "metadata": {},
   "outputs": [],
   "source": []
  },
  {
   "cell_type": "code",
   "execution_count": null,
   "id": "c1dc1a05-a588-43fd-8266-9fbb1da193eb",
   "metadata": {},
   "outputs": [],
   "source": []
  },
  {
   "cell_type": "code",
   "execution_count": null,
   "id": "52bafd56-5076-4651-a63b-5c3b6e88e85e",
   "metadata": {},
   "outputs": [],
   "source": []
  },
  {
   "cell_type": "code",
   "execution_count": null,
   "id": "a1265866-2365-4ac5-866a-56261108982d",
   "metadata": {},
   "outputs": [],
   "source": []
  },
  {
   "cell_type": "code",
   "execution_count": null,
   "id": "7d315384-5e67-49d0-af66-ee9b0e5e2f19",
   "metadata": {},
   "outputs": [],
   "source": []
  }
 ],
 "metadata": {
  "kernelspec": {
   "display_name": "Python 3 (ipykernel)",
   "language": "python",
   "name": "python3"
  },
  "language_info": {
   "codemirror_mode": {
    "name": "ipython",
    "version": 3
   },
   "file_extension": ".py",
   "mimetype": "text/x-python",
   "name": "python",
   "nbconvert_exporter": "python",
   "pygments_lexer": "ipython3",
   "version": "3.11.10"
  }
 },
 "nbformat": 4,
 "nbformat_minor": 5
}
