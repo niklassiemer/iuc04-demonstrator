{
 "cells": [
  {
   "cell_type": "code",
   "execution_count": 1,
   "id": "68c56867-4b36-4934-b4a2-f5f14f08cb68",
   "metadata": {
    "tags": []
   },
   "outputs": [
    {
     "data": {
      "text/html": [
       "<pre style=\"white-space:pre;overflow-x:auto;line-height:normal;font-family:Menlo,'DejaVu Sans Mono',consolas,'Courier New',monospace\"></pre>\n"
      ],
      "text/plain": []
     },
     "metadata": {},
     "output_type": "display_data"
    },
    {
     "data": {
      "text/html": [
       "<pre style=\"white-space:pre;overflow-x:auto;line-height:normal;font-family:Menlo,'DejaVu Sans Mono',consolas,'Courier New',monospace\"></pre>\n"
      ],
      "text/plain": []
     },
     "metadata": {},
     "output_type": "display_data"
    },
    {
     "data": {
      "application/vnd.jupyter.widget-view+json": {
       "model_id": "15d3929e5156451b9565a9a7e5a8108a",
       "version_major": 2,
       "version_minor": 0
      },
      "text/plain": []
     },
     "metadata": {},
     "output_type": "display_data"
    }
   ],
   "source": [
    "from pyiron import Project\n",
    "import numpy as np \n",
    "import matplotlib.pyplot as plt\n",
    "\n",
    "from itertools import combinations, permutations\n",
    "\n",
    "%config inlinebackend.figure_format='retina'"
   ]
  },
  {
   "cell_type": "code",
   "execution_count": 2,
   "id": "103d0e51-54c6-45fe-b7e5-bd195234047f",
   "metadata": {
    "tags": []
   },
   "outputs": [],
   "source": [
    "pr = Project('/cmmc/u/pmathews/PyIron_data/projects/Mg-GB_alloys/Sigma7B-Ga/Chemical_potential')\n",
    "pr_Mg = pr.parent_group.parent_group.parent_group['Mg/Murn']\n",
    "pr_Ga = pr.parent_group.parent_group.parent_group['Ga/Structure']\n",
    "pr_0 = Project('/cmmc/ptmp/pmathews/PyIron_data/projects/Mg_S7_pure_GB/Sigma7_A_T_VASP_ISIF_3')"
   ]
  },
  {
   "cell_type": "code",
   "execution_count": 3,
   "id": "be29e3c7-a99a-4f3f-96d3-4266b13dcaab",
   "metadata": {
    "tags": []
   },
   "outputs": [],
   "source": [
    "pr.switch_to_viewer_mode()"
   ]
  },
  {
   "cell_type": "code",
   "execution_count": 4,
   "id": "88e331e0-170e-4fbc-804b-a3f1e75f6d88",
   "metadata": {
    "tags": []
   },
   "outputs": [],
   "source": [
    "# class to plot DPDs\n",
    "class plot_DPD():\n",
    "    \n",
    "    def __init__(self, mu_x, energies, labels, colors):\n",
    "        self.mu_x = mu_x\n",
    "        self.energies = energies\n",
    "        self.labels = labels\n",
    "        self.colors = colors\n",
    "        self.indices = []\n",
    "\n",
    "    def ret_mu_pos(self, x, y): # function to return intersection point of 2 formation energy lines\n",
    "        '''\n",
    "        Returns intersection point of 2 formation energy lines\n",
    "        '''\n",
    "        for i, s in enumerate(y):\n",
    "            if s<x[i]:\n",
    "                ind = i\n",
    "                break\n",
    "            else:\n",
    "                ind = len(x)\n",
    "        return ind\n",
    "    \n",
    "    def get_indices(self):\n",
    "        '''\n",
    "        Returns list containing starting index, intersection indices and ending index; list containing indices of energies stable in DPD and list containing indices of energies not stable in DPD.\n",
    "        '''    \n",
    "        inds_selected, inds_rejected, final_inds = [], [], [0]\n",
    "        counter = 0\n",
    "        for i in range(len(self.energies)-1): \n",
    "            if counter != 0:\n",
    "                counter -= 1\n",
    "                inds_rejected.append(i)\n",
    "                continue\n",
    "            else:\n",
    "                ind = []\n",
    "                for j in range(i+1,len(self.energies)):\n",
    "                    ind.append(self.ret_mu_pos(self.energies[i], self.energies[j]))\n",
    "\n",
    "                k = np.where(ind==np.min(ind))[0][0]\n",
    "                if k == 0:\n",
    "                    inds_selected.append(i)\n",
    "                    final_inds.append(self.ret_mu_pos(self.energies[i], self.energies[i+1]))\n",
    "\n",
    "                else: # skip to next lowest energy level \n",
    "                    counter = k\n",
    "                    inds_selected.append(i)\n",
    "                    final_inds.append(self.ret_mu_pos(self.energies[i], self.energies[i+k+1]))\n",
    "                    \n",
    "        final_inds.append(len(self.energies[0]))\n",
    "                \n",
    "        return final_inds, inds_selected, inds_rejected\n",
    "    \n",
    "    def plot(self, xlim=[-1, 0], ylim=[-5,25], xlabel=r'$\\Delta\\mu_{\\rm Ga}$ [eV]', ylabel=r'$E_{\\rm f}$ [meV/$\\rm \\AA^2$]', alpha_fill=1, legend=True):\n",
    "        '''\n",
    "        Plots the DPD for the given chemical potential and formation energies. \n",
    "        Args:\n",
    "            xlim: x-axis limits; default is [-1,0]\n",
    "            ylim: y-axis limits; default is [-5,25]\n",
    "            xlabel: x-axis Label; default is \"r'$\\Delta\\mu_{\\rm Ga}$ [eV]'\"\n",
    "            ylabel: y-axis Label; default is \"r'$E_{\\rm f}$ [meV/$\\rm \\AA^2$]'\"\n",
    "            alpha_fill: alpha parameter to control transparency in shaded regions; default is 1.0\n",
    "        '''\n",
    "        final_inds, inds_selected, inds_rejected = self.get_indices()\n",
    "        \n",
    "        plt.figure(figsize=(8,5))\n",
    "        plt.xlim(xlim[0], xlim[-1])\n",
    "        plt.ylim(ylim[0], ylim[1])\n",
    "        plt.xlabel(xlabel, fontsize=18)\n",
    "        plt.ylabel(ylabel, fontsize=18, labelpad=-5)\n",
    "        plt.tick_params(axis='both', direction='in', top=True, right=True, length=10, pad=8, labelsize=17)\n",
    "        \n",
    "        counter = 0\n",
    "        k = 0\n",
    "        for i in range(len(self.energies)):\n",
    "            if len(inds_rejected)>0 and i != inds_rejected[counter]:\n",
    "                plt.plot(self.mu_x[:final_inds[k]], 1000*self.energies[i][:final_inds[k]], c=self.colors[i], alpha=0.5, ls='--', lw=2)\n",
    "                plt.plot(self.mu_x[final_inds[k+1]:], 1000*self.energies[i][final_inds[k+1]:], c=self.colors[i], alpha=0.3, ls='--', lw=2)\n",
    "                plt.plot(self.mu_x[final_inds[k]:final_inds[k+1]], 1000*self.energies[i][final_inds[k]:final_inds[k+1]], c=self.colors[i], lw=2, label=self.labels[i])\n",
    "                \n",
    "                plt.fill_between(self.mu_x[final_inds[k]:final_inds[k+1]], 1000*self.energies[i][final_inds[k]:final_inds[k+1]], \n",
    "                                 y2=1000*np.min(self.energies), color=self.colors[i], alpha=alpha_fill)\n",
    "                \n",
    "                k += 1\n",
    "            elif len(inds_rejected)==0:\n",
    "                plt.plot(self.mu_x[:final_inds[k]], 1000*self.energies[i][:final_inds[k]], c=self.colors[i], alpha=0.5, ls='--', lw=2)\n",
    "                plt.plot(self.mu_x[final_inds[k+1]:], 1000*self.energies[i][final_inds[k+1]:], c=self.colors[i], alpha=0.3, ls='--', lw=2)\n",
    "                plt.plot(self.mu_x[final_inds[k]:final_inds[k+1]], 1000*self.energies[i][final_inds[k]:final_inds[k+1]], c=self.colors[i], lw=2, label=self.labels[i])\n",
    "                \n",
    "                plt.fill_between(self.mu_x[final_inds[k]:final_inds[k+1]], 1000*self.energies[i][final_inds[k]:final_inds[k+1]], \n",
    "                                 y2=1000*np.min(self.energies), color=self.colors[i], alpha=alpha_fill)\n",
    "                \n",
    "                k += 1\n",
    "\n",
    "            else:\n",
    "                plt.plot(self.mu_x, 1000*self.energies[i], c=colors[i], ls='--', lw=2, label=self.labels[i])\n",
    "                if counter < len(inds_rejected)-1:\n",
    "                    counter += 1\n",
    "                    \n",
    "        plt.tight_layout()\n",
    "        if legend:\n",
    "            plt.legend(fontsize=13)"
   ]
  },
  {
   "cell_type": "code",
   "execution_count": 5,
   "id": "e8771b05-59a8-40d5-ac2c-653084eb81a8",
   "metadata": {
    "tags": []
   },
   "outputs": [],
   "source": [
    "job = pr_Mg.load('Mg_bulk')\n",
    "mu_Mg = job.output.energy_tot[-1]/len(job.structure)\n",
    "\n",
    "job = pr_Ga.load('Ga_bulk')\n",
    "mu_Ga = job.output.energy_tot[-1]/len(job.structure)"
   ]
  },
  {
   "cell_type": "code",
   "execution_count": 6,
   "id": "0b037593-e70c-4461-a9d3-33f428424321",
   "metadata": {
    "tags": []
   },
   "outputs": [
    {
     "data": {
      "text/plain": [
       "(-1.5065073075, -2.9067873625)"
      ]
     },
     "execution_count": 6,
     "metadata": {},
     "output_type": "execute_result"
    }
   ],
   "source": [
    "mu_Mg, mu_Ga"
   ]
  },
  {
   "cell_type": "code",
   "execution_count": 7,
   "id": "aa90bc08-3535-459f-888b-63e49c0d2750",
   "metadata": {
    "tags": []
   },
   "outputs": [],
   "source": [
    "structure = pr.create.structure.read('/cmmc/u/pmathews/PyIron_data/projects/Mg-GB/Sigma_7B_A_DFT_160.POSCAR')\n",
    "structure_t = pr.create.structure.read('/cmmc/u/pmathews/PyIron_data/projects/Mg-GB/Sigma_7B_T_DFT_160.POSCAR')\n",
    "\n",
    "s_atoms = [153,   151,  152, 156, 157,  1,   0,   2]\n",
    "sites =   ['a1', 'a2', 'a3', 'b', 'c', 'd', 'e', 'f']\n",
    "\n",
    "s_atoms_2 = [153,   151,  152, 156, 157,  1,   0,   2,   154,   155,   146,   145,   143]\n",
    "sites_2 =   ['a1', 'a2', 'a3', 'b+', 'c+', 'd+', 'e+', 'f+', 'b-', 'c-', 'd-', 'e-', 'f-']"
   ]
  },
  {
   "cell_type": "code",
   "execution_count": 8,
   "id": "e0f1213b-a39c-4e24-a7bf-494feff29dcc",
   "metadata": {
    "tags": []
   },
   "outputs": [],
   "source": [
    "job = pr_0.load('sig7b_type_a_eps_final_160')\n",
    "en_0Ga = job.output.energy_tot[-1]\n",
    "\n",
    "job = pr_0.load('sig7b_type_t_eps_final_160')\n",
    "en_0Ga_t = job.output.energy_tot[-1]"
   ]
  },
  {
   "cell_type": "code",
   "execution_count": 9,
   "id": "ac534fb2-2219-4dc0-83f1-5801d75713c9",
   "metadata": {
    "tags": []
   },
   "outputs": [],
   "source": [
    "pr_tables = pr.parent_group['S7_GB_tables']\n",
    "\n",
    "all_labels, all_energies, min_inds = [], [], []\n",
    "for i in range(1,7):\n",
    "    tab = pr_tables.load(str('Ga{}Mg{}').format(i, 158-i))\n",
    "    df = tab.get_dataframe()\n",
    "    df = df[df['GB Type'] == 'A']\n",
    "    labels = np.unique(df['GB Site Labels'].tolist())\n",
    "    energies, labels_list = [], []\n",
    "    for j in range(len(labels)):\n",
    "        energies.append(np.min(df[df['GB Site Labels'] == labels[j]]['Energy'].tolist()))\n",
    "        labels_list.append(str(labels[j]).replace('p','').replace('m','\\''))\n",
    "    all_labels.append(labels_list)\n",
    "    all_energies.append(energies)\n",
    "    min_inds.append(np.argmin(energies))"
   ]
  },
  {
   "cell_type": "code",
   "execution_count": 10,
   "id": "9506ce49-39c4-405f-b9f8-0882be4a0286",
   "metadata": {
    "tags": []
   },
   "outputs": [
    {
     "data": {
      "text/html": [
       "<div>\n",
       "<style scoped>\n",
       "    .dataframe tbody tr th:only-of-type {\n",
       "        vertical-align: middle;\n",
       "    }\n",
       "\n",
       "    .dataframe tbody tr th {\n",
       "        vertical-align: top;\n",
       "    }\n",
       "\n",
       "    .dataframe thead th {\n",
       "        text-align: right;\n",
       "    }\n",
       "</style>\n",
       "<table border=\"1\" class=\"dataframe\">\n",
       "  <thead>\n",
       "    <tr style=\"text-align: right;\">\n",
       "      <th></th>\n",
       "      <th>job_id</th>\n",
       "      <th>Energy</th>\n",
       "      <th>GB Site Labels</th>\n",
       "      <th>Strain</th>\n",
       "      <th>GB Type</th>\n",
       "    </tr>\n",
       "  </thead>\n",
       "  <tbody>\n",
       "    <tr>\n",
       "      <th>0</th>\n",
       "      <td>16860562</td>\n",
       "      <td>-239.885348</td>\n",
       "      <td>a1_a2</td>\n",
       "      <td>-0.010</td>\n",
       "      <td>A</td>\n",
       "    </tr>\n",
       "    <tr>\n",
       "      <th>1</th>\n",
       "      <td>16860563</td>\n",
       "      <td>-239.911552</td>\n",
       "      <td>a1_a2</td>\n",
       "      <td>-0.005</td>\n",
       "      <td>A</td>\n",
       "    </tr>\n",
       "    <tr>\n",
       "      <th>2</th>\n",
       "      <td>16860564</td>\n",
       "      <td>-239.904377</td>\n",
       "      <td>a1_a2</td>\n",
       "      <td>0.000</td>\n",
       "      <td>A</td>\n",
       "    </tr>\n",
       "    <tr>\n",
       "      <th>3</th>\n",
       "      <td>16860565</td>\n",
       "      <td>-239.866026</td>\n",
       "      <td>a1_a2</td>\n",
       "      <td>0.005</td>\n",
       "      <td>A</td>\n",
       "    </tr>\n",
       "    <tr>\n",
       "      <th>4</th>\n",
       "      <td>16860566</td>\n",
       "      <td>-239.796115</td>\n",
       "      <td>a1_a2</td>\n",
       "      <td>0.010</td>\n",
       "      <td>A</td>\n",
       "    </tr>\n",
       "    <tr>\n",
       "      <th>...</th>\n",
       "      <td>...</td>\n",
       "      <td>...</td>\n",
       "      <td>...</td>\n",
       "      <td>...</td>\n",
       "      <td>...</td>\n",
       "    </tr>\n",
       "    <tr>\n",
       "      <th>210</th>\n",
       "      <td>17068603</td>\n",
       "      <td>-239.838110</td>\n",
       "      <td>d_e</td>\n",
       "      <td>-0.010</td>\n",
       "      <td>A</td>\n",
       "    </tr>\n",
       "    <tr>\n",
       "      <th>211</th>\n",
       "      <td>17068604</td>\n",
       "      <td>-239.906091</td>\n",
       "      <td>d_e</td>\n",
       "      <td>-0.005</td>\n",
       "      <td>A</td>\n",
       "    </tr>\n",
       "    <tr>\n",
       "      <th>212</th>\n",
       "      <td>17068605</td>\n",
       "      <td>-239.869160</td>\n",
       "      <td>d_e</td>\n",
       "      <td>0.000</td>\n",
       "      <td>A</td>\n",
       "    </tr>\n",
       "    <tr>\n",
       "      <th>213</th>\n",
       "      <td>17068606</td>\n",
       "      <td>-239.471442</td>\n",
       "      <td>c_d'</td>\n",
       "      <td>-0.010</td>\n",
       "      <td>A</td>\n",
       "    </tr>\n",
       "    <tr>\n",
       "      <th>214</th>\n",
       "      <td>17068607</td>\n",
       "      <td>-239.931644</td>\n",
       "      <td>d_e'</td>\n",
       "      <td>-0.005</td>\n",
       "      <td>A</td>\n",
       "    </tr>\n",
       "  </tbody>\n",
       "</table>\n",
       "<p>215 rows × 5 columns</p>\n",
       "</div>"
      ],
      "text/plain": [
       "       job_id      Energy GB Site Labels  Strain GB Type\n",
       "0    16860562 -239.885348          a1_a2  -0.010       A\n",
       "1    16860563 -239.911552          a1_a2  -0.005       A\n",
       "2    16860564 -239.904377          a1_a2   0.000       A\n",
       "3    16860565 -239.866026          a1_a2   0.005       A\n",
       "4    16860566 -239.796115          a1_a2   0.010       A\n",
       "..        ...         ...            ...     ...     ...\n",
       "210  17068603 -239.838110            d_e  -0.010       A\n",
       "211  17068604 -239.906091            d_e  -0.005       A\n",
       "212  17068605 -239.869160            d_e   0.000       A\n",
       "213  17068606 -239.471442           c_d'  -0.010       A\n",
       "214  17068607 -239.931644           d_e'  -0.005       A\n",
       "\n",
       "[215 rows x 5 columns]"
      ]
     },
     "execution_count": 10,
     "metadata": {},
     "output_type": "execute_result"
    }
   ],
   "source": [
    "pr_tables['Ga2Mg156'].get_dataframe()"
   ]
  },
  {
   "cell_type": "code",
   "execution_count": 11,
   "id": "3b4bb2cf-1380-417d-9dca-0df96548167a",
   "metadata": {
    "tags": []
   },
   "outputs": [],
   "source": [
    "# Grain boundary Area\n",
    "A_t = 2*structure.cell[2][2]*structure.cell[1][1]"
   ]
  },
  {
   "cell_type": "code",
   "execution_count": 12,
   "id": "51e1a5fa-9707-47a6-829b-d9df7dab0c96",
   "metadata": {
    "tags": []
   },
   "outputs": [],
   "source": [
    "# pure MG GB formation energies\n",
    "Ef_0Ga_GB = (en_0Ga - (len(structure)*mu_Mg))/A_t # formation energy of pure A type GB\n",
    "Ef_0Ga_GB_T = (en_0Ga_t - (len(structure_t)*mu_Mg))/A_t # formation energy of pure T type GB"
   ]
  },
  {
   "cell_type": "code",
   "execution_count": 13,
   "id": "adce1ba9-654c-44e3-9079-7bbaf0039a49",
   "metadata": {
    "tags": []
   },
   "outputs": [],
   "source": [
    "start_mu = mu_Ga - 1\n",
    "end_mu = mu_Ga + 0.5\n",
    "\n",
    "def formation_energies(n, t, e_sup):\n",
    "    Ef_initial = 2*e_sup - en_0Ga - (t-(2*n))*mu_Mg - (2*n)*(start_mu)\n",
    "    Ef_final = 2*e_sup - en_0Ga - (t-2*n)*mu_Mg - 2*n*(end_mu)\n",
    "    return np.linspace(Ef_initial, Ef_final, 1500)/A_t"
   ]
  },
  {
   "cell_type": "code",
   "execution_count": 14,
   "id": "59be88db-0504-4431-b56f-63e67bbfc3cb",
   "metadata": {
    "tags": []
   },
   "outputs": [],
   "source": [
    "formation_energies_list, labels_list = [], []\n",
    "for i in range(1,7):\n",
    "    formation_energies_list.append(formation_energies(i, len(structure), all_energies[i-1][min_inds[i-1]]))\n",
    "    labels_list.append(all_labels[i-1][min_inds[i-1]])"
   ]
  },
  {
   "cell_type": "code",
   "execution_count": 15,
   "id": "eae9ea33-91db-4528-866a-38c408fb501d",
   "metadata": {
    "tags": []
   },
   "outputs": [
    {
     "name": "stdout",
     "output_type": "stream",
     "text": [
      "28\n"
     ]
    },
    {
     "data": {
      "text/plain": [
       "(-3.35680607125, -2.7504468925)"
      ]
     },
     "execution_count": 15,
     "metadata": {},
     "output_type": "execute_result"
    }
   ],
   "source": [
    "# chemical potential of precipitate\n",
    "pr_bulk = Project('/cmmc/u/pmathews/PyIron_data/projects/Mg/Murn/')\n",
    "job = pr_bulk.load('Mg_bulk')\n",
    "E_Mg_bulk_pure = (job.output.energy_tot[-1]/len(job.structure))\n",
    "\n",
    "pr_mu = Project('/cmmc/u/pmathews/PyIron_data/projects/Mg-Ga/Structure/')\n",
    "\n",
    "job = pr_mu.load('Mg5Ga_relax')\n",
    "print(len(job.structure))\n",
    "E_Mg5Ga_relaxed = job.output.energy_tot[-1]\n",
    "relaxed_struct = job.get_structure()\n",
    "\n",
    "N_Mg = len(relaxed_struct.select_index(el='Mg'))\n",
    "N_Ga = len(relaxed_struct.select_index(el='Ga'))\n",
    "\n",
    "mu_Ga_Mg5Ga_relaxed = (E_Mg5Ga_relaxed - (N_Mg*E_Mg_bulk_pure))/N_Ga\n",
    "\n",
    "job = pr_mu.load('Mg5Ga_constrained')\n",
    "E_Mg5Ga_constd = job.output.energy_tot[-1]\n",
    "constrained_struct = job.get_structure()\n",
    "\n",
    "N_Mg = len(constrained_struct.select_index(el='Mg'))\n",
    "N_Ga = len(constrained_struct.select_index(el='Ga'))\n",
    "\n",
    "mu_Ga_Mg5Ga_constd = (E_Mg5Ga_constd - (N_Mg*E_Mg_bulk_pure))/N_Ga\n",
    "mu_Ga_Mg5Ga_relaxed, mu_Ga_Mg5Ga_constd"
   ]
  },
  {
   "cell_type": "code",
   "execution_count": 16,
   "id": "3e28e93e-ce8e-4385-80d6-c83594e3b8aa",
   "metadata": {
    "tags": []
   },
   "outputs": [],
   "source": [
    "pr_ga_bulk = pr.parent_group['Bulk1Ga']\n",
    "\n",
    "job = pr_ga_bulk.load('Mg_bulk_sig7_1Ga')\n",
    "bulk_energy_Ga = job.output.energy_tot[-1]\n",
    "bulk_Ga = job.structure\n",
    "\n",
    "del_H_ss = bulk_energy_Ga - E_Mg_bulk_pure*(len(bulk_Ga)-1)"
   ]
  },
  {
   "cell_type": "code",
   "execution_count": 17,
   "id": "55ce18f8-ce78-4fa7-b4fc-6827111306e2",
   "metadata": {
    "jupyter": {
     "source_hidden": true
    },
    "tags": []
   },
   "outputs": [],
   "source": [
    "import matplotlib.colors as mcolors\n",
    "import matplotlib.cm as cm\n",
    "\n",
    "num = 20\n",
    "mus = np.linspace(0, num, num+1, dtype=int)\n",
    "\n",
    "colorparams = mus\n",
    "\n",
    "colormap = cm.summer\n",
    "\n",
    "normalize = mcolors.Normalize(vmin=np.min(colorparams), vmax=np.max(colorparams))\n",
    "\n",
    "colors = []\n",
    "num = 9\n",
    "lim = 3\n",
    "for i in range(lim):\n",
    "    colors.append(colormap(normalize(mus[num+i*3])))\n",
    "colors.reverse()\n",
    "\n",
    "\n",
    "num = 20\n",
    "mus = np.linspace(0, num, num+1, dtype=int)\n",
    "colorparams = mus\n",
    "\n",
    "colormap = cm.ocean\n",
    "\n",
    "normalize = mcolors.Normalize(vmin=np.min(colorparams), vmax=np.max(colorparams))\n",
    "\n",
    "colors.append(colormap(normalize(mus[int(len(mus)/1.34)])))\n",
    "\n",
    "for i in range(lim):\n",
    "    colors.append(colormap(normalize(mus[(12-i*3)%len(mus)])))\n",
    "# colors.reverse()\n",
    "    \n",
    "text_col = 'k'"
   ]
  },
  {
   "cell_type": "code",
   "execution_count": 18,
   "id": "3260fc6d-8ce7-4e49-9772-8b3e993fd474",
   "metadata": {
    "tags": []
   },
   "outputs": [
    {
     "data": {
      "text/plain": [
       "Text(-0.49, 2.5, '$\\\\mu_{\\\\rm Mg_5Ga_2}$')"
      ]
     },
     "execution_count": 18,
     "metadata": {},
     "output_type": "execute_result"
    },
    {
     "data": {
      "image/png": "[encoded data removed]",
      "text/plain": [
       "<Figure size 800x500 with 1 Axes>"
      ]
     },
     "metadata": {},
     "output_type": "display_data"
    }
   ],
   "source": [
    "final_mu_Ga = np.linspace(mu_Ga-1, end_mu, 1500)\n",
    "DPD = plot_DPD(mu_x=final_mu_Ga-mu_Ga, energies=np.concatenate([[np.array([Ef_0Ga_GB_T]*len(formation_energies_list[0]))], np.array(formation_energies_list)]), colors=colors, \n",
    "               labels=['0-Ga', '1-Ga', '2-Ga', '3-Ga', '4-Ga', '5-Ga', '6-Ga'])\n",
    "DPD.plot(xlim=[-1,0], ylim=[-10,25], alpha_fill=1, legend=True)\n",
    "\n",
    "plt.axvline(x=mu_Ga_Mg5Ga_relaxed-mu_Ga, ymax=2, ymin=0, color='k', ls='--', lw=2)\n",
    "plt.text(s=r'$\\mu_{\\rm Mg_5Ga_2}$', x=-0.49, y=2.5, c='k', fontsize=18, rotation=90)"
   ]
  },
  {
   "cell_type": "markdown",
   "id": "2174df24-cacd-44ac-a9fa-7b8b23987f0e",
   "metadata": {},
   "source": [
    "## Experimental DPD energies"
   ]
  },
  {
   "cell_type": "code",
   "execution_count": 19,
   "id": "29956da0-9665-4b44-b1cf-6da62e30e32d",
   "metadata": {
    "tags": []
   },
   "outputs": [],
   "source": [
    "def get_index(l, cond):\n",
    "    for i in range(len(l)):\n",
    "        if l[i] == cond:\n",
    "            break\n",
    "            \n",
    "    if l[i] == cond:        \n",
    "        return i\n",
    "    else:\n",
    "        print('Match not found')"
   ]
  },
  {
   "cell_type": "code",
   "execution_count": 20,
   "id": "c5da935e-7cbf-47ac-bde8-b18083f36831",
   "metadata": {
    "tags": []
   },
   "outputs": [],
   "source": [
    "ind_2 = get_index(all_labels[2], str(\"b_c\\'_e\\'\"))\n",
    "\n",
    "ind_6 = get_index(all_labels[-1], str('b_c_e_b\\'_c\\'_e\\''))"
   ]
  },
  {
   "cell_type": "code",
   "execution_count": 21,
   "id": "1dc2d649-2b88-4452-8baa-fa41196e4ce7",
   "metadata": {
    "tags": []
   },
   "outputs": [],
   "source": [
    "Ef_3Ga_exp = formation_energies(3, len(structure), all_energies[2][ind_2])\n",
    "Ef_6Ga_exp = formation_energies(6, len(structure), all_energies[-1][ind_6])"
   ]
  },
  {
   "cell_type": "code",
   "execution_count": 22,
   "id": "36e9ccd2-e70e-4573-bc0e-02c9119e0a3a",
   "metadata": {
    "tags": []
   },
   "outputs": [],
   "source": [
    "ind_1_b, ind_1_c, ind_1_e = get_index(all_labels[0], str(\"b\")), get_index(all_labels[0], str(\"c\")), get_index(all_labels[0], str(\"e\"))"
   ]
  },
  {
   "cell_type": "code",
   "execution_count": 23,
   "id": "6621cbd1-2247-4ace-98ed-3cdfa7c9b9be",
   "metadata": {
    "tags": []
   },
   "outputs": [],
   "source": [
    "E_1Ga_b = formation_energies(1, len(structure), all_energies[0][ind_1_b])\n",
    "\n",
    "# E_1Ga_c = formation_energies(1, len(structure), all_energies[0][ind_1_c])\n",
    "\n",
    "# E_1Ga_e = formation_energies(1, len(structure), all_energies[0][ind_1_e])"
   ]
  },
  {
   "cell_type": "markdown",
   "id": "d3ef28bb-53ae-42c6-8eed-9c30bfe0403a",
   "metadata": {},
   "source": [
    "## Experimental DPD"
   ]
  },
  {
   "cell_type": "code",
   "execution_count": 24,
   "id": "ae08b41d-94bd-4cbc-95fa-b3026315e2e5",
   "metadata": {
    "tags": []
   },
   "outputs": [
    {
     "data": {
      "image/png": "[encoded data removed]",
      "text/plain": [
       "<Figure size 800x500 with 1 Axes>"
      ]
     },
     "metadata": {},
     "output_type": "display_data"
    }
   ],
   "source": [
    "final_mu_Ga = np.linspace(mu_Ga-1, end_mu, 1500)\n",
    "exp_colors = ['#00ad4a', '#ff00ff', '#ff0066', '#cc0000']\n",
    "text_col = 'white'\n",
    "\n",
    "DPD = plot_DPD(mu_x=final_mu_Ga-mu_Ga, energies=np.array([[Ef_0Ga_GB_T]*len(E_1Ga_b), E_1Ga_b, Ef_3Ga_exp, Ef_6Ga_exp]), colors=exp_colors, \n",
    "               labels=['0-Ga', '1-Ga', '3-Ga', '6-Ga'])\n",
    "\n",
    "DPD.plot(xlim=[-0.8,0], ylim=[-15,25], alpha_fill=0.3, legend=False)"
   ]
  },
  {
   "cell_type": "code",
   "execution_count": null,
   "id": "98d8e8ad-f46a-495f-9b4c-12933ea6a709",
   "metadata": {},
   "outputs": [],
   "source": []
  },
  {
   "cell_type": "code",
   "execution_count": null,
   "id": "c1dc1a05-a588-43fd-8266-9fbb1da193eb",
   "metadata": {},
   "outputs": [],
   "source": []
  },
  {
   "cell_type": "code",
   "execution_count": 25,
   "id": "52bafd56-5076-4651-a63b-5c3b6e88e85e",
   "metadata": {},
   "outputs": [
    {
     "ename": "ValueError",
     "evalue": "",
     "output_type": "error",
     "traceback": [
      "\u001b[0;31m---------------------------------------------------------------------------\u001b[0m",
      "\u001b[0;31mValueError\u001b[0m                                Traceback (most recent call last)",
      "Cell \u001b[0;32mIn[25], line 1\u001b[0m\n\u001b[0;32m----> 1\u001b[0m \u001b[38;5;28;01mraise\u001b[39;00m \u001b[38;5;167;01mValueError\u001b[39;00m\n",
      "\u001b[0;31mValueError\u001b[0m: "
     ]
    }
   ],
   "source": [
    "raise ValueError"
   ]
  },
  {
   "cell_type": "code",
   "execution_count": null,
   "id": "a1265866-2365-4ac5-866a-56261108982d",
   "metadata": {},
   "outputs": [],
   "source": []
  },
  {
   "cell_type": "code",
   "execution_count": null,
   "id": "aab7e7d9-d6d2-4761-878b-3e84c037781e",
   "metadata": {
    "tags": []
   },
   "outputs": [],
   "source": [
    "pr_structures = Project('/cmmc/u/pmathews/PyIron_data/projects/Mg-GB/')"
   ]
  },
  {
   "cell_type": "code",
   "execution_count": null,
   "id": "25b7f5f0-5d5f-4b81-90b9-244442bd7f2f",
   "metadata": {
    "tags": []
   },
   "outputs": [],
   "source": [
    "'Sigma_7B_T_DFT_160.POSCAR' in pr_structures.list_files()"
   ]
  },
  {
   "cell_type": "code",
   "execution_count": null,
   "id": "15df00c0-71ef-4d4c-85a3-7d4207d9e464",
   "metadata": {},
   "outputs": [],
   "source": [
    "pr_structures.pack?"
   ]
  },
  {
   "cell_type": "code",
   "execution_count": null,
   "id": "e63ab7d5-b1c8-470d-9b4b-ce92381c141d",
   "metadata": {
    "tags": []
   },
   "outputs": [],
   "source": [
    "pr_tables.path"
   ]
  },
  {
   "cell_type": "code",
   "execution_count": 32,
   "id": "36ae0b91-018a-486d-bfdc-06b86105d69b",
   "metadata": {
    "tags": []
   },
   "outputs": [],
   "source": [
    "import os\n",
    "def pack(project, destination_dir, project_name):\n",
    "    old_dir = os.getcwd()\n",
    "    try:\n",
    "        destination = os.path.abspath(destination_dir)\n",
    "        os.chdir(os.path.dirname(project.parent_group.path))\n",
    "        print(os.listdir(destination))\n",
    "        project.pack(os.path.join(destination, project_name + '_data'), os.path.join(destination, project_name + '_export.csv'))\n",
    "    finally:\n",
    "        os.chdir(old_dir)"
   ]
  },
  {
   "cell_type": "code",
   "execution_count": 33,
   "id": "04015fed-0d81-4a83-afcc-4285f159a90c",
   "metadata": {
    "tags": []
   },
   "outputs": [
    {
     "data": {
      "text/plain": [
       "'/cmmc/u/nsiemer/pyiron/projects/SFB1394'"
      ]
     },
     "execution_count": 33,
     "metadata": {},
     "output_type": "execute_result"
    }
   ],
   "source": [
    "os.getcwd()"
   ]
  },
  {
   "cell_type": "code",
   "execution_count": 34,
   "id": "bb9f88c2-617d-4ec4-89ec-e562818d6be9",
   "metadata": {
    "tags": []
   },
   "outputs": [
    {
     "name": "stdout",
     "output_type": "stream",
     "text": [
      "['pr_mu_data.tar.gz', 'pr_Ga_data.tar.gz', 'Sigma_7B_A_DFT_160.POSCAR', 'pr_bulk_data.tar.gz', 'pr_export.csv', 'pr_Ga_export.csv', 'Sigma_7B_T_DFT_160.POSCAR', 'pr_ga_bulk_data.tar.gz', 'pr_ga_bulk_export.csv', 'pr_Mg_data.tar.gz', 'pr_bulk_export.csv', 'pr_0_export.csv', 'pr_data.tar.gz', 'pr_mu_export.csv', 'pr_0_data.tar.gz', 'pr_Mg_export.csv']\n"
     ]
    }
   ],
   "source": [
    "pack(pr_tables, '../../../DPD_data/', 'pr_tables')"
   ]
  },
  {
   "cell_type": "code",
   "execution_count": null,
   "id": "84ab9354-3403-4876-8cae-84498b70e58e",
   "metadata": {
    "tags": []
   },
   "outputs": [],
   "source": [
    "pr_tables.pack('../../../DPD_data/pr_tables_data.tar.gz', '../../../DPD_data/pr_tables_export.csv')"
   ]
  },
  {
   "cell_type": "code",
   "execution_count": null,
   "id": "ac21bc89-a3d9-40ac-a96f-6d95326006a3",
   "metadata": {},
   "outputs": [],
   "source": []
  }
 ],
 "metadata": {
  "kernelspec": {
   "display_name": "Python 3 (ipykernel)",
   "language": "python",
   "name": "python3"
  },
  "language_info": {
   "codemirror_mode": {
    "name": "ipython",
    "version": 3
   },
   "file_extension": ".py",
   "mimetype": "text/x-python",
   "name": "python",
   "nbconvert_exporter": "python",
   "pygments_lexer": "ipython3",
   "version": "3.8.15"
  }
 },
 "nbformat": 4,
 "nbformat_minor": 5
}
