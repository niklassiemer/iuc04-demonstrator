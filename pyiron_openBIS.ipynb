{
 "cells": [
  {
   "cell_type": "markdown",
   "metadata": {
    "id": "5H6vkp-I-QpE"
   },
   "source": [
    "# IUC04 demo: Uploading a pyiron job to openBIS + Coscine from the notebook\n"
   ]
  },
  {
   "cell_type": "markdown",
   "metadata": {
    "id": "FOL2KRZ2AI_X"
   },
   "source": [
    "## Set up conda, clone git repos, and install packages if not present\n",
    "\n",
    "- First a conda environment is set up - this resets the kernel and you need to run everything again (already in the first cell)\n",
    "- Afterwards repos are cloned to the colab space and the branch working on colab is checked out.\n",
    "- Finally an `environment.yml` file is written and used to upldate the conda environment with all required packages.\n"
   ]
  },
  {
   "cell_type": "code",
   "execution_count": 13,
   "metadata": {
    "colab": {
     "base_uri": "https://localhost:8080/"
    },
    "id": "oVuzaMkY9v6F",
    "outputId": "86ae1362-5bc3-454c-be49-6c70a07960d3"
   },
   "outputs": [
    {
     "name": "stdout",
     "output_type": "stream",
     "text": [
      "✨🍰✨ Everything looks OK!\n"
     ]
    }
   ],
   "source": [
    "! if [[ \"$(conda --version 2> /dev/null)\" == \"\" ]]; then pip install -q condacolab; fi\n",
    "\n",
    "import condacolab, os\n",
    "condacolab.install()\n",
    "os.environ['CONDA_DIR'] = '/usr/local/'\n",
    "os.environ['AWS_REQUEST_CHECKSUM_CALCULATION'] =  \"when_required\""
   ]
  },
  {
   "cell_type": "code",
   "execution_count": 14,
   "metadata": {
    "id": "a1pgz1G7BDcQ"
   },
   "outputs": [],
   "source": [
    "from google.colab import userdata, output\n",
    "output.enable_custom_widget_manager()"
   ]
  },
  {
   "cell_type": "code",
   "execution_count": 15,
   "metadata": {
    "id": "R5oA2a_wHSRm"
   },
   "outputs": [],
   "source": [
    "import git"
   ]
  },
  {
   "cell_type": "code",
   "execution_count": 16,
   "metadata": {
    "id": "12634b3b"
   },
   "outputs": [],
   "source": [
    "pyiron_rdm_url =  f\"https://{userdata.get('pyiron_rdm')}@github.com/pyiron/pyiron_rdm.git\"\n",
    "pyiron_rdm_path = 'pyiron_rdm'\n",
    "demo_repo_url = 'https://gitlab.mpcdf.mpg.de/pyiron/iuc04-demonstrator'\n",
    "demo_repo_path = 'iuc04-demonstrator'\n",
    "try:\n",
    "  pyiron_rdm_git = git.Repo(pyiron_rdm_path)\n",
    "except git.exc.NoSuchPathError:\n",
    "  try:\n",
    "    git.Repo.clone_from(pyiron_rdm_url, pyiron_rdm_path)\n",
    "    pyiron_rdm_git = git.Repo(pyiron_rdm_path)\n",
    "  except git.exc.GitCommandError as e:\n",
    "    print(f\"Error cloning repository: {e}\")\n",
    "try:\n",
    "  git.Repo(demo_repo_path)\n",
    "except git.exc.NoSuchPathError:\n",
    "  try:\n",
    "    git.Repo.clone_from(demo_repo_url, demo_repo_path)\n",
    "  except git.exc.GitCommandError as e:\n",
    "    print(f\"Error cloning repository: {e}\")\n"
   ]
  },
  {
   "cell_type": "code",
   "execution_count": 17,
   "metadata": {
    "colab": {
     "base_uri": "https://localhost:8080/",
     "height": 0
    },
    "id": "j0UixaZSn0PC",
    "outputId": "3a8f7fb3-82db-4207-d707-4623dbe265bb"
   },
   "outputs": [
    {
     "data": {
      "application/vnd.google.colaboratory.intrinsic+json": {
       "type": "string"
      },
      "text/plain": [
       "'Already up to date.'"
      ]
     },
     "execution_count": 17,
     "metadata": {},
     "output_type": "execute_result"
    }
   ],
   "source": [
    "pyiron_rdm_git.git.checkout('dev_nsiemer')\n",
    "pyiron_rdm_git.git.pull()"
   ]
  },
  {
   "cell_type": "code",
   "execution_count": 18,
   "metadata": {
    "id": "EaP4xhqZ9fh7"
   },
   "outputs": [],
   "source": [
    "with open('environment.yml', 'w') as f:\n",
    "    f.write(\"\"\"channels:\n",
    "  - conda-forge\n",
    "  - nodefaults\n",
    "dependencies:\n",
    "  - python=3.11\n",
    "  - pyiron\n",
    "  - pyiron_base=0.13.0\n",
    "  - pyiron_atomistics=0.7.8\n",
    "  - lammps\n",
    "  - nglview\n",
    "  - pyiron-data >=0.0.30\n",
    "  - pybis=1.37.0\n",
    "  - python-xxhash=3.5.0\n",
    "  - iprpy-data\n",
    "  - boto3=1.35\n",
    "\"\"\")"
   ]
  },
  {
   "cell_type": "code",
   "execution_count": 19,
   "metadata": {
    "id": "4Y0qv2sV8nsy"
   },
   "outputs": [],
   "source": [
    "! conda env update -n base -f environment.yml > install.log 2> install.err"
   ]
  },
  {
   "cell_type": "markdown",
   "metadata": {
    "id": "hgNVA1CGneWw"
   },
   "source": [
    "# Run a pyiron calculation\n",
    "We use a small LAMMPS minimization job of a Fe structure as a test case."
   ]
  },
  {
   "cell_type": "code",
   "execution_count": 20,
   "metadata": {
    "id": "Xqycg1sUEu5V"
   },
   "outputs": [],
   "source": [
    "from pyiron import Project"
   ]
  },
  {
   "cell_type": "code",
   "execution_count": 21,
   "metadata": {
    "id": "eoIp5XVQJZ91"
   },
   "outputs": [],
   "source": [
    "pr = Project('test')"
   ]
  },
  {
   "cell_type": "code",
   "execution_count": 22,
   "metadata": {
    "colab": {
     "base_uri": "https://localhost:8080/",
     "height": 17,
     "referenced_widgets": [
      "71d8fb2ddead4d79a7040215d2270310",
      "5f5a0c02f7f64be69780dc2e132b969e",
      "295ab0d97fc642f9935b10a999f28fe0",
      "1d0f51aea0a24bc480c3fcaa50da02f7",
      "f1236d58946c49d8921e639f6ad79793",
      "bb23bfa10d5341e2841afa7474075d1d",
      "c31dee8654ab4d378daa3a147cc2db02"
     ]
    },
    "id": "0dMU_0laE5YK",
    "outputId": "d2d5d789-3ff2-479e-82ee-f51c5cbaa99f"
   },
   "outputs": [
    {
     "data": {
      "application/vnd.jupyter.widget-view+json": {
       "model_id": "295ab0d97fc642f9935b10a999f28fe0",
       "version_major": 2,
       "version_minor": 0
      },
      "text/plain": [
       "NGLWidget()"
      ]
     },
     "metadata": {
      "application/vnd.jupyter.widget-view+json": {
       "colab": {
        "custom_widget_manager": {
         "url": "https://ssl.gstatic.com/colaboratory-static/widgets/colab-cdn-widget-manager/2b70e893a8ba7c0f/manager.min.js"
        }
       }
      }
     },
     "output_type": "display_data"
    }
   ],
   "source": [
    "structure = pr.create.structure.bulk(\"Fe\", cubic=True, a=2.845)\n",
    "structure.plot3d()"
   ]
  },
  {
   "cell_type": "code",
   "execution_count": 23,
   "metadata": {
    "colab": {
     "base_uri": "https://localhost:8080/"
    },
    "id": "NXj8JaCicnjn",
    "outputId": "5c07b47d-0f9c-4c76-c248-8a588cfe2573"
   },
   "outputs": [
    {
     "name": "stdout",
     "output_type": "stream",
     "text": [
      "The job lmp_atom was saved and received the ID: 1\n"
     ]
    }
   ],
   "source": [
    "job = pr.create.job.Lammps(\"lmp_atom\", delete_existing_job=True)\n",
    "job.structure = structure\n",
    "job.potential = job.list_potentials()[68]\n",
    "job.calc_minimize(ionic_force_tolerance=1e-8, style=\"fire\")\n",
    "job.executable = 'lmp -in control.inp'   # colab is running with root user causing issues with mpirun - not needed for 'normal' workflow\n",
    "job.run()"
   ]
  },
  {
   "cell_type": "code",
   "execution_count": 24,
   "metadata": {
    "colab": {
     "base_uri": "https://localhost:8080/"
    },
    "id": "PZ8p1R3LE90e",
    "outputId": "353321dc-3228-4677-b425-222312e78917"
   },
   "outputs": [
    {
     "data": {
      "text/plain": [
       "array([-8.02939586, -8.02939586])"
      ]
     },
     "execution_count": 24,
     "metadata": {},
     "output_type": "execute_result"
    }
   ],
   "source": [
    "job.output.energy_pot"
   ]
  },
  {
   "cell_type": "markdown",
   "metadata": {
    "id": "lGxiu2faX3r3"
   },
   "source": [
    "# Interact with the openBIS + Coscine infrastructure"
   ]
  },
  {
   "cell_type": "markdown",
   "metadata": {
    "id": "T69w7MHqbFXq"
   },
   "source": [
    "## Log-in to OpenBIS-Coscine"
   ]
  },
  {
   "cell_type": "code",
   "execution_count": 25,
   "metadata": {
    "id": "Trpkx1MZGXMM"
   },
   "outputs": [],
   "source": [
    "import sys\n",
    "sys.path.append(os.getcwd() + '/pyiron_rdm')  #\n",
    "import ob.classic as ob_classic\n",
    "import requests"
   ]
  },
  {
   "cell_type": "code",
   "execution_count": 26,
   "metadata": {
    "id": "AC88ZGu6Ooch"
   },
   "outputs": [],
   "source": [
    "# get write credentials for the S3 bucket.\n",
    "with requests.get('https://datashare.mpcdf.mpg.de/public.php/webdav/', auth=('a9xEyO5TUSgi9Ay', userdata.get('cfg_download_link_pw'))) as r:\n",
    "    with open('test_sfb.cfg', 'wb') as f:\n",
    "        f.write(r.content)"
   ]
  },
  {
   "cell_type": "code",
   "execution_count": 29,
   "metadata": {
    "colab": {
     "base_uri": "https://localhost:8080/"
    },
    "id": "LRgJao2mHGx9",
    "outputId": "5482b38f-6d30-4e8e-969c-f5587606da0e"
   },
   "outputs": [
    {
     "name": "stdout",
     "output_type": "stream",
     "text": [
      "Enter openBIS password: ··········\n"
     ]
    }
   ],
   "source": [
    "o = ob_classic.openbis_login(url=\"https://openbis.imm.rwth-aachen.de/openbis/webapp/eln-lims/\", username=\"siemer\",\n",
    "                  instance=\"sfb1394\", s3_config_path=\"test_sfb.cfg\")"
   ]
  },
  {
   "cell_type": "markdown",
   "metadata": {
    "id": "6KxqnOVXbQUQ"
   },
   "source": [
    "## Upload the pyiron job to openBIS + Coscine\n",
    "- Now we process the pyiron job to receive the conceptual dictionaries, a highly annotated json-ld data format.\n",
    "- validate these with respect to the data on the OpenBIS instance\n",
    "- and upload the metadata to OpenBIS and the data to Coscine-S3"
   ]
  },
  {
   "cell_type": "code",
   "execution_count": 84,
   "metadata": {
    "colab": {
     "base_uri": "https://localhost:8080/"
    },
    "id": "Rhg4gQvfEKY2",
    "outputId": "4764c286-5399-4b69-a019-d3a65da9cdb9"
   },
   "outputs": [
    {
     "name": "stderr",
     "output_type": "stream",
     "text": [
      "DEBUG:pyiron_log:Not supported parameter used!\n"
     ]
    }
   ],
   "source": [
    "cdicts_to_validate, proceed, job_type, upload_final_struct, datamodel = ob_classic.create_conceptual_dicts_for_upload(job, o, collection=\"CRC1394_PYIRON_UPLOAD_DEMO\")"
   ]
  },
  {
   "cell_type": "code",
   "execution_count": 85,
   "metadata": {
    "id": "q9XV0WX4kKHI"
   },
   "outputs": [],
   "source": [
    "def sanitize_cdict(cdict, debug=0):\n",
    "  import numpy as np\n",
    "  debug_n = debug + 1 if debug else debug\n",
    "  if isinstance(cdict, list):\n",
    "    return [sanitize_cdict(c, debug=debug_n) for c in cdict]\n",
    "  if isinstance(cdict, dict):\n",
    "    for key, value in cdict.items():\n",
    "      if isinstance(value, (list, dict)):\n",
    "        cdict[key] = sanitize_cdict(value, debug=debug_n)\n",
    "      elif isinstance(value, (np.float32, np.float64, np.float16)):\n",
    "        cdict[key] = float(value)\n",
    "      elif isinstance(value, (np.int32, np.int16, np.int64, np.int8)):\n",
    "        cdict[key] = int(value)\n",
    "      elif isinstance(value, np.ndarray):\n",
    "        cdict[key] = value.tolist()\n",
    "      elif isinstance(value, np.str_):\n",
    "        cdict[key] = str(value)\n",
    "      elif isinstance(value, np.bool_):\n",
    "        cdict[key] = bool(value)\n",
    "      if isinstance(cdict[key], float):\n",
    "        if int(cdict[key]) == cdict[key]:\n",
    "          cdict[key] = int(cdict[key])\n",
    "      if debug:\n",
    "        print(debug*'   ', key, value, type(value), cdict[key])\n",
    "  return cdict"
   ]
  },
  {
   "cell_type": "code",
   "execution_count": 86,
   "metadata": {
    "id": "OAaws6XRaIG_"
   },
   "outputs": [],
   "source": [
    "corrected_cdicts = sanitize_cdict(cdicts_to_validate)"
   ]
  },
  {
   "cell_type": "code",
   "execution_count": 75,
   "metadata": {
    "id": "8fUjrSp3L9R_"
   },
   "outputs": [],
   "source": [
    "corrected_cdicts[1]['software'][0]['label'] = 'LAMMPS20220623'    # Needed only on colab due to the 'lmp -in control.inp' above\n",
    "for job_detail in corrected_cdicts[1]['job_details']:             # redefine the host to be google_colab\n",
    "  if job_detail['label'] == 'host':\n",
    "    job_detail['value'] = 'GOOGLE_COLAB'"
   ]
  },
  {
   "cell_type": "code",
   "execution_count": 76,
   "metadata": {
    "id": "1QuUMrPfEOO4"
   },
   "outputs": [],
   "source": [
    "validated_cdict = ob_classic.validate_cdicts_to_upload(o, space=\"CRC1394\", project=\"CRC1394_DEMO\", collection=\"CRC1394_PYIRON_UPLOAD_DEMO\", cdicts_to_validate=corrected_cdicts)"
   ]
  },
  {
   "cell_type": "code",
   "execution_count": 104,
   "metadata": {
    "colab": {
     "base_uri": "https://localhost:8080/"
    },
    "id": "wImVRgQaEXwo",
    "outputId": "bfd7f683-6e8b-4439-ed9b-e8c43f72c74d"
   },
   "outputs": [
    {
     "name": "stdout",
     "output_type": "stream",
     "text": [
      "===================\n",
      "\n",
      "Object with name lmp_atom_structure already exists! Found object(s) in: ['/CRC1394/CRC1394_DEMO/SAMPLE12253']\n",
      "\n",
      "===================\n",
      "\n",
      "===================\n",
      "\n",
      "Object with name lmp_atom already exists! Found object(s) in: ['/CRC1394/CRC1394_DEMO/PYIRON_JOB_LAMMPS12254']\n",
      "\n",
      "===================\n",
      "\n",
      "===================\n",
      "\n",
      "Object with name lmp_atom_final_structure already exists! Found object(s) in: ['/CRC1394/CRC1394_DEMO/SAMPLE12255']\n",
      "\n",
      "===================\n",
      "\n"
     ]
    }
   ],
   "source": [
    "ob_classic.upload_classic_pyiron_from_cdicts(o, space=\"CRC1394\", project=\"CRC1394_DEMO\", collection=\"CRC1394_PYIRON_UPLOAD_DEMO\", validated_to_upload=validated_cdict,datamodel=datamodel, job_type=job_type, upload_final_struct=upload_final_struct)"
   ]
  },
  {
   "cell_type": "markdown",
   "metadata": {
    "id": "hlSVEIh4aIXc"
   },
   "source": [
    "## Download and work with pyiron job from openBIS/Coscine\n",
    "\n",
    "Uses the openBIS connection defined in the last section do download a pyiron hdf5 file and load it into a dataclass."
   ]
  },
  {
   "cell_type": "code",
   "execution_count": 89,
   "metadata": {
    "id": "2NHU3l4pEZto"
   },
   "outputs": [],
   "source": [
    "from h5io_browser import read_dict_from_hdf\n",
    "from pyiron_dataclasses.v1.converter import get_dataclass\n"
   ]
  },
  {
   "cell_type": "code",
   "execution_count": 98,
   "metadata": {
    "id": "VTXMNYTXqlS_"
   },
   "outputs": [],
   "source": [
    "pyiron_job_on_ob = o.get_objects(project='CRC1394_DEMO',collection=\"CRC1394_PYIRON_UPLOAD_DEMO\", type=\"PYIRON_JOB_LAMMPS\", where={'atom_f_tol_in_ev_a':\t1.0E-8})[0]"
   ]
  },
  {
   "cell_type": "code",
   "execution_count": 99,
   "metadata": {
    "id": "sN_Op7ulr7JP"
   },
   "outputs": [],
   "source": [
    "pyiron_job_h5 = pyiron_job_on_ob.get_datasets(type='PYIRON_HDF5')[0]"
   ]
  },
  {
   "cell_type": "code",
   "execution_count": 100,
   "metadata": {
    "id": "yjvyfMBdspZv"
   },
   "outputs": [],
   "source": [
    "pyiron_job_h5=o.get_dataset(pyiron_job_h5.permId)"
   ]
  },
  {
   "cell_type": "code",
   "execution_count": 101,
   "metadata": {
    "id": "UXY7AQ7Athcg"
   },
   "outputs": [],
   "source": [
    "pyiron_job_h5.download(destination='some')"
   ]
  },
  {
   "cell_type": "code",
   "execution_count": 101,
   "metadata": {
    "id": "6w1Noonrt-PA"
   },
   "outputs": [],
   "source": []
  },
  {
   "cell_type": "code",
   "execution_count": 102,
   "metadata": {
    "id": "iYBTL2MM1puf"
   },
   "outputs": [],
   "source": [
    "job_dict=read_dict_from_hdf(\n",
    "        file_name='some/20250704084444846-140934/original/2025-07-04T08-44-43.046901_PYIRON_HDF5_siemer_lmp_atom.h5',\n",
    "        h5_path=\"/\",\n",
    "        recursive=True,\n",
    "        slash='ignore',\n",
    "    )\n"
   ]
  },
  {
   "cell_type": "code",
   "execution_count": 103,
   "metadata": {
    "colab": {
     "base_uri": "https://localhost:8080/"
    },
    "id": "DUW22-oq1llW",
    "outputId": "f675de95-aa51-41a1-a3a6-a4912afba218"
   },
   "outputs": [
    {
     "data": {
      "text/plain": [
       "LammpsJob(calculation_input=LammpsInput(generic_dict=GenericDict(restart_file_list=[], restart_file_dict={}, exclude_nodes_hdf=[], exclude_groups_hdf=[]), interactive=Interactive(interactive_flush_frequency=10000, interactive_write_frequency=10000), generic=GenericInput(calc_mode='minimize', structure='atoms', fix_symmetry=None, k_mesh_spacing=None, k_mesh_center_shift=None, reduce_kpoint_symmetry=None, restart_for_band_structure=None, path_name=None, n_path=None, fix_spin_constraint=None, max_iter=100000, temperature=None, n_ionic_steps=None, n_print=None, temperature_damping_timescale=None, pressure_damping_timescale=None, time_step=None), structure=Structure(dimension=3, indices=array([0, 0]), info={}, positions=array([[0.    , 0.    , 0.    ],\n",
       "       [1.4225, 1.4225, 1.4225]]), species=['Fe'], cell=Cell(cell=array([[2.845, 0.   , 0.   ],\n",
       "       [0.   , 2.845, 0.   ],\n",
       "       [0.   , 0.   , 2.845]]), pbc=array([ True,  True,  True])), units=Units(length='A', mass='u')), potential=LammpsPotential(citation=\"[{'Wen_2021': {'title': 'A new interatomic potential describing Fe-H and H-H interactions in bcc iron', 'journal': 'Computational Materials Science', 'volume': '197', 'pages': '110640', 'doi': '10.1016/j.commatsci.2021.110640', 'publisher': 'Elsevier BV', 'url': 'https://doi.org/10.1016%2Fj.commatsci.2021.110640', 'year': '2021', 'author': ['Mao Wen']}}]\", config=['pair_style eam/fs\\n', 'pair_coeff * * FeH_Wen.eam.fs Fe H\\n'], filename=['potential_LAMMPS/2021--Wen-M--Fe-H--LAMMPS--ipr1/FeH_Wen.eam.fs'], model='NISTiprpy', name='2021--Wen-M--Fe-H--LAMMPS--ipr1', species=['Fe', 'H']), input_files=LammpsInputFiles(control_inp='units metal\\ndimension 3\\nboundary p p p\\natom_style atomic\\nread_data structure.inp\\ninclude potential.inp\\nfix ensemble all nve\\nvariable dumptime equal 100\\nvariable thermotime equal 100\\nmin_style fire\\ndump 1 all custom ${dumptime} dump.out id type xsu ysu zsu fx fy fz vx vy vz\\ndump_modify 1 sort id format line \"%d %d %20.15g %20.15g %20.15g %20.15g %20.15g %20.15g %20.15g %20.15g %20.15g\"\\nthermo_style custom step temp pe etotal pxx pxy pxz pyy pyz pzz vol\\nthermo_modify format float %20.15g\\nthermo ${thermotime}\\nminimize 0.0 1e-08 100000 10000000', potential_inp='pair_style eam/fs\\npair_coeff * * FeH_Wen.eam.fs Fe H')), executable=Executable(name='lammps', operation_system_nt=False, mpi=False, accepted_return_codes=[0], version='lmp -in control.inp', executable=None), server=Server(user='pyiron', host='17f1b2334df5', run_mode='modal', cores=1, threads=1, new_hdf=True, accept_crash=False, additional_arguments=None, gpus=None, run_time=None, memory_limit=None, queue=None, qid=None, conda_environment_name=None, conda_environment_path=None), calculation_output=LammpsOutput(generic=GenericOutput(cells=<Quantity([[[2.84500000e+00 1.74206007e-16 1.74206007e-16]\n",
       "  [0.00000000e+00 2.84500000e+00 1.74206007e-16]\n",
       "  [0.00000000e+00 0.00000000e+00 2.84500000e+00]]\n",
       "\n",
       " [[2.84500000e+00 1.74206007e-16 1.74206007e-16]\n",
       "  [0.00000000e+00 2.84500000e+00 1.74206007e-16]\n",
       "  [0.00000000e+00 0.00000000e+00 2.84500000e+00]]], 'angstrom')>, energy_pot=<Quantity([-8.02939586 -8.02939586], 'electron_volt')>, energy_tot=<Quantity([-8.02939586 -8.02939586], 'electron_volt')>, forces=<Quantity([[[ 0.00000000e+00 -4.16333634e-17  9.02056208e-17]\n",
       "  [-1.11022302e-16 -6.24500451e-17  1.17961196e-16]]\n",
       "\n",
       " [[ 0.00000000e+00 -4.16333634e-17  9.02056208e-17]\n",
       "  [-1.11022302e-16 -6.24500451e-17  1.17961196e-16]]], 'electron_volt / angstrom')>, positions=<Quantity([[[0.     0.     0.    ]\n",
       "  [1.4225 1.4225 1.4225]]\n",
       "\n",
       " [[0.     0.     0.    ]\n",
       "  [1.4225 1.4225 1.4225]]], 'angstrom')>, volume=<Quantity([23.02750113 23.02750113], 'angstrom ** 3')>, indices=array([[0, 0],\n",
       "       [0, 0]]), natoms=array([2., 2.]), pressures=<Quantity([[[1.87814451e+00 5.01231205e-16 6.94345216e-16]\n",
       "  [5.01231205e-16 1.87814451e+00 6.70205964e-16]\n",
       "  [6.94345216e-16 6.70205964e-16 1.87814451e+00]]\n",
       "\n",
       " [[1.87814451e+00 5.01231205e-16 6.94345216e-16]\n",
       "  [5.01231205e-16 1.87814451e+00 6.70205964e-16]\n",
       "  [6.94345216e-16 6.70205964e-16 1.87814451e+00]]], 'gigapascal')>, steps=array([0, 1]), stresses=None, temperature=<Quantity([0.00000000e+00 2.67391969e-32], 'kelvin')>, unwrapped_positions=<Quantity([[[0.     0.     0.    ]\n",
       "  [1.4225 1.4225 1.4225]]\n",
       "\n",
       " [[0.     0.     0.    ]\n",
       "  [1.4225 1.4225 1.4225]]], 'angstrom')>, velocities=<Quantity([[[ 0.00000000e+00  0.00000000e+00  0.00000000e+00]\n",
       "  [ 0.00000000e+00  0.00000000e+00  0.00000000e+00]]\n",
       "\n",
       " [[ 0.00000000e+00 -7.19288261e-21  1.55845790e-20]\n",
       "  [-1.91810203e-20 -1.07893239e-20  2.03798341e-20]]], 'angstrom / femtosecond')>, dft=None, elastic_constants=None)), status='finished', job_id=1)"
      ]
     },
     "execution_count": 103,
     "metadata": {},
     "output_type": "execute_result"
    }
   ],
   "source": [
    "job_classes = get_dataclass(job_dict['lmp_atom'])\n",
    "job_classes"
   ]
  },
  {
   "cell_type": "code",
   "execution_count": null,
   "metadata": {
    "id": "qRfmng6jr8UZ"
   },
   "outputs": [],
   "source": []
  }
 ],
 "metadata": {
  "colab": {
   "provenance": []
  },
  "kernelspec": {
   "display_name": "Python 3",
   "language": "python",
   "name": "python3"
  },
  "language_info": {
   "codemirror_mode": {
    "name": "ipython",
    "version": 3
   },
   "file_extension": ".py",
   "mimetype": "text/x-python",
   "name": "python",
   "nbconvert_exporter": "python",
   "pygments_lexer": "ipython3",
   "version": "3.8.3"
  },
  "widgets": {
   "application/vnd.jupyter.widget-state+json": {
    "1d0f51aea0a24bc480c3fcaa50da02f7": {
     "model_module": "@jupyter-widgets/base",
     "model_module_version": "2.0.0",
     "model_name": "LayoutModel",
     "state": {
      "_model_module": "@jupyter-widgets/base",
      "_model_module_version": "2.0.0",
      "_model_name": "LayoutModel",
      "_view_count": null,
      "_view_module": "@jupyter-widgets/base",
      "_view_module_version": "2.0.0",
      "_view_name": "LayoutView",
      "align_content": null,
      "align_items": null,
      "align_self": null,
      "border_bottom": null,
      "border_left": null,
      "border_right": null,
      "border_top": null,
      "bottom": null,
      "display": null,
      "flex": null,
      "flex_flow": null,
      "grid_area": null,
      "grid_auto_columns": null,
      "grid_auto_flow": null,
      "grid_auto_rows": null,
      "grid_column": null,
      "grid_gap": null,
      "grid_row": null,
      "grid_template_areas": null,
      "grid_template_columns": null,
      "grid_template_rows": null,
      "height": null,
      "justify_content": null,
      "justify_items": null,
      "left": null,
      "margin": null,
      "max_height": null,
      "max_width": null,
      "min_height": null,
      "min_width": null,
      "object_fit": null,
      "object_position": null,
      "order": null,
      "overflow": null,
      "padding": null,
      "right": null,
      "top": null,
      "visibility": null,
      "width": null
     }
    },
    "295ab0d97fc642f9935b10a999f28fe0": {
     "model_module": "nglview-js-widgets",
     "model_module_version": "3.1.4",
     "model_name": "NGLModel",
     "state": {
      "_camera_orientation": [],
      "_camera_str": "orthographic",
      "_dom_classes": [],
      "_gui_theme": null,
      "_ibtn_fullscreen": "IPY_MODEL_39b184de823248d6aeec95458278a7be",
      "_igui": null,
      "_iplayer": "IPY_MODEL_5df95a4af4384d1a880d4512c2f8bebe",
      "_model_module": "nglview-js-widgets",
      "_model_module_version": "3.1.4",
      "_model_name": "NGLModel",
      "_ngl_color_dict": {},
      "_ngl_coordinate_resource": {},
      "_ngl_full_stage_parameters": {},
      "_ngl_msg_archive": [
       {
        "args": [
         {
          "binary": false,
          "data": "CRYST1    2.845    2.845    2.845  90.00  90.00  90.00 P 1\nMODEL     1\nATOM      0   Fe   Fe     0      0.000   0.000   0.000  1.00  0.00          Fe \nATOM      1   Fe   Fe     1      1.423   1.423   1.423  1.00  0.00          Fe \nENDMDL \n",
          "type": "blob"
         }
        ],
        "kwargs": {
         "defaultRepresentation": true,
         "ext": "pdb"
        },
        "methodName": "loadFile",
        "reconstruc_color_scheme": false,
        "target": "Stage",
        "type": "call_method"
       },
       {
        "args": [
         "spacefill"
        ],
        "component_index": 0,
        "kwargs": {
         "colorScheme": "element",
         "radius": 0.7099019513592786,
         "radiusType": "vdw",
         "sele": "#Fe"
        },
        "methodName": "addRepresentation",
        "reconstruc_color_scheme": false,
        "target": "compList",
        "type": "call_method"
       },
       {
        "args": [
         "ball+stick",
         0
        ],
        "kwargs": {},
        "methodName": "removeRepresentationsByName",
        "reconstruc_color_scheme": false,
        "target": "Widget",
        "type": "call_method"
       },
       {
        "args": [
         "unitcell"
        ],
        "component_index": 0,
        "kwargs": {
         "sele": "all"
        },
        "methodName": "addRepresentation",
        "reconstruc_color_scheme": false,
        "target": "compList",
        "type": "call_method"
       },
       {
        "args": [
         "shape",
         [
          [
           "arrow",
           [
            -1,
            -1,
            -1
           ],
           [
            0,
            -1,
            -1
           ],
           [
            1,
            0,
            0
           ],
           0.1
          ]
         ]
        ],
        "fire_embed": true,
        "kwargs": {},
        "methodName": "addShape",
        "reconstruc_color_scheme": false,
        "target": "Widget",
        "type": "call_method"
       },
       {
        "args": [
         "shape",
         [
          [
           "text",
           [
            0,
            -1,
            -1
           ],
           [
            0,
            0,
            0
           ],
           1,
           "x"
          ]
         ]
        ],
        "fire_embed": true,
        "kwargs": {},
        "methodName": "addShape",
        "reconstruc_color_scheme": false,
        "target": "Widget",
        "type": "call_method"
       },
       {
        "args": [
         "shape",
         [
          [
           "arrow",
           [
            -1,
            -1,
            -1
           ],
           [
            -1,
            0,
            -1
           ],
           [
            0,
            1,
            0
           ],
           0.1
          ]
         ]
        ],
        "fire_embed": true,
        "kwargs": {},
        "methodName": "addShape",
        "reconstruc_color_scheme": false,
        "target": "Widget",
        "type": "call_method"
       },
       {
        "args": [
         "shape",
         [
          [
           "text",
           [
            -1,
            0,
            -1
           ],
           [
            0,
            0,
            0
           ],
           1,
           "y"
          ]
         ]
        ],
        "fire_embed": true,
        "kwargs": {},
        "methodName": "addShape",
        "reconstruc_color_scheme": false,
        "target": "Widget",
        "type": "call_method"
       },
       {
        "args": [
         "shape",
         [
          [
           "arrow",
           [
            -1,
            -1,
            -1
           ],
           [
            -1,
            -1,
            0
           ],
           [
            0,
            0,
            1
           ],
           0.1
          ]
         ]
        ],
        "fire_embed": true,
        "kwargs": {},
        "methodName": "addShape",
        "reconstruc_color_scheme": false,
        "target": "Widget",
        "type": "call_method"
       },
       {
        "args": [
         "shape",
         [
          [
           "text",
           [
            -1,
            -1,
            0
           ],
           [
            0,
            0,
            0
           ],
           1,
           "z"
          ]
         ]
        ],
        "fire_embed": true,
        "kwargs": {},
        "methodName": "addShape",
        "reconstruc_color_scheme": false,
        "target": "Widget",
        "type": "call_method"
       },
       {
        "args": [],
        "kwargs": {
         "cameraType": "orthographic"
        },
        "methodName": "setParameters",
        "reconstruc_color_scheme": false,
        "target": "Stage",
        "type": "call_method"
       },
       {
        "args": [
         [
          14,
          0,
          0,
          0,
          0,
          14,
          0,
          0,
          0,
          0,
          14,
          0,
          0,
          0,
          0,
          14
         ]
        ],
        "kwargs": {},
        "methodName": "orient",
        "reconstruc_color_scheme": false,
        "target": "viewerControls",
        "type": "call_method"
       }
      ],
      "_ngl_original_stage_parameters": {},
      "_ngl_repr_dict": {},
      "_ngl_serialize": false,
      "_ngl_version": "",
      "_ngl_view_id": [],
      "_player_dict": {},
      "_scene_position": {},
      "_scene_rotation": {},
      "_synced_model_ids": [],
      "_synced_repr_model_ids": [],
      "_view_count": null,
      "_view_height": "",
      "_view_module": "nglview-js-widgets",
      "_view_module_version": "3.1.4",
      "_view_name": "NGLView",
      "_view_width": "",
      "background": "white",
      "frame": 0,
      "gui_style": null,
      "layout": "IPY_MODEL_13838acfdf2d426e945dda0a592c7e19",
      "max_frame": 0,
      "n_components": 0,
      "picked": {},
      "tabbable": null,
      "tooltip": null
     }
    },
    "5f5a0c02f7f64be69780dc2e132b969e": {
     "model_module": "@jupyter-widgets/controls",
     "model_module_version": "2.0.0",
     "model_name": "IntSliderModel",
     "state": {
      "_dom_classes": [],
      "_model_module": "@jupyter-widgets/controls",
      "_model_module_version": "2.0.0",
      "_model_name": "IntSliderModel",
      "_view_count": null,
      "_view_module": "@jupyter-widgets/controls",
      "_view_module_version": "2.0.0",
      "_view_name": "IntSliderView",
      "behavior": "drag-tap",
      "continuous_update": true,
      "description": "",
      "description_allow_html": false,
      "disabled": false,
      "layout": "IPY_MODEL_bb23bfa10d5341e2841afa7474075d1d",
      "max": 0,
      "min": 0,
      "orientation": "horizontal",
      "readout": true,
      "readout_format": "d",
      "step": 1,
      "style": "IPY_MODEL_c31dee8654ab4d378daa3a147cc2db02",
      "tabbable": null,
      "tooltip": null,
      "value": 0
     }
    },
    "71d8fb2ddead4d79a7040215d2270310": {
     "model_module": "@jupyter-widgets/controls",
     "model_module_version": "2.0.0",
     "model_name": "PlayModel",
     "state": {
      "_dom_classes": [],
      "_model_module": "@jupyter-widgets/controls",
      "_model_module_version": "2.0.0",
      "_model_name": "PlayModel",
      "_view_count": null,
      "_view_module": "@jupyter-widgets/controls",
      "_view_module_version": "2.0.0",
      "_view_name": "PlayView",
      "description": "",
      "description_allow_html": false,
      "disabled": false,
      "interval": 100,
      "layout": "IPY_MODEL_1d0f51aea0a24bc480c3fcaa50da02f7",
      "max": 0,
      "min": 0,
      "playing": false,
      "repeat": false,
      "show_repeat": true,
      "step": 1,
      "style": "IPY_MODEL_f1236d58946c49d8921e639f6ad79793",
      "tabbable": null,
      "tooltip": null,
      "value": 0
     }
    },
    "bb23bfa10d5341e2841afa7474075d1d": {
     "model_module": "@jupyter-widgets/base",
     "model_module_version": "2.0.0",
     "model_name": "LayoutModel",
     "state": {
      "_model_module": "@jupyter-widgets/base",
      "_model_module_version": "2.0.0",
      "_model_name": "LayoutModel",
      "_view_count": null,
      "_view_module": "@jupyter-widgets/base",
      "_view_module_version": "2.0.0",
      "_view_name": "LayoutView",
      "align_content": null,
      "align_items": null,
      "align_self": null,
      "border_bottom": null,
      "border_left": null,
      "border_right": null,
      "border_top": null,
      "bottom": null,
      "display": null,
      "flex": null,
      "flex_flow": null,
      "grid_area": null,
      "grid_auto_columns": null,
      "grid_auto_flow": null,
      "grid_auto_rows": null,
      "grid_column": null,
      "grid_gap": null,
      "grid_row": null,
      "grid_template_areas": null,
      "grid_template_columns": null,
      "grid_template_rows": null,
      "height": null,
      "justify_content": null,
      "justify_items": null,
      "left": null,
      "margin": null,
      "max_height": null,
      "max_width": null,
      "min_height": null,
      "min_width": null,
      "object_fit": null,
      "object_position": null,
      "order": null,
      "overflow": null,
      "padding": null,
      "right": null,
      "top": null,
      "visibility": null,
      "width": null
     }
    },
    "c31dee8654ab4d378daa3a147cc2db02": {
     "model_module": "@jupyter-widgets/controls",
     "model_module_version": "2.0.0",
     "model_name": "SliderStyleModel",
     "state": {
      "_model_module": "@jupyter-widgets/controls",
      "_model_module_version": "2.0.0",
      "_model_name": "SliderStyleModel",
      "_view_count": null,
      "_view_module": "@jupyter-widgets/base",
      "_view_module_version": "2.0.0",
      "_view_name": "StyleView",
      "description_width": "",
      "handle_color": null
     }
    },
    "f1236d58946c49d8921e639f6ad79793": {
     "model_module": "@jupyter-widgets/controls",
     "model_module_version": "2.0.0",
     "model_name": "DescriptionStyleModel",
     "state": {
      "_model_module": "@jupyter-widgets/controls",
      "_model_module_version": "2.0.0",
      "_model_name": "DescriptionStyleModel",
      "_view_count": null,
      "_view_module": "@jupyter-widgets/base",
      "_view_module_version": "2.0.0",
      "_view_name": "StyleView",
      "description_width": ""
     }
    }
   }
  }
 },
 "nbformat": 4,
 "nbformat_minor": 1
}
